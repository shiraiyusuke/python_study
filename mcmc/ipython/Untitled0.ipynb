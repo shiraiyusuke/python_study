{
 "metadata": {
  "name": "",
  "signature": "sha256:3b02ec3e6f907a17252f94477d177d93df83801b634702877d1c0de19afee270"
 },
 "nbformat": 3,
 "nbformat_minor": 0,
 "worksheets": [
  {
   "cells": [
    {
     "cell_type": "code",
     "collapsed": false,
     "input": [
      "from IPython.core.pylabtools import figsize\n",
      "import numpy as np\n",
      "from matplotlib import pyplot as plt\n",
      "%matplotlib inline\n",
      "figsize(12.5, 4)"
     ],
     "language": "python",
     "metadata": {},
     "outputs": [],
     "prompt_number": 111
    },
    {
     "cell_type": "code",
     "collapsed": false,
     "input": [
      "colors = ['#348ABD', '#A60628']"
     ],
     "language": "python",
     "metadata": {},
     "outputs": [],
     "prompt_number": 112
    },
    {
     "cell_type": "code",
     "collapsed": false,
     "input": [
      "prior = [1/21., 20/21.]"
     ],
     "language": "python",
     "metadata": {},
     "outputs": [],
     "prompt_number": 113
    },
    {
     "cell_type": "code",
     "collapsed": false,
     "input": [
      "posterior = [0.087, 1 - 0.087]"
     ],
     "language": "python",
     "metadata": {},
     "outputs": [],
     "prompt_number": 114
    },
    {
     "cell_type": "code",
     "collapsed": false,
     "input": [
      "plt.bar([0, .7], prior, alpha =0.70, width=0.25, color=colors[0], label='prior distribution', lw='3', edgecolor='#A60628')\n",
      "plt.bar([0 + 0.25, .7 + 0.25], posterior, alpha =0.7, width=0.25, color=colors[1], label='posterior distribution', lw='3', edgecolor='#A60628')\n",
      "plt.xticks([0.20, 0.95], ['Librarian', 'Farmer'])\n",
      "plt.ylabel('Probability')"
     ],
     "language": "python",
     "metadata": {},
     "outputs": [
      {
       "metadata": {},
       "output_type": "pyout",
       "prompt_number": 115,
       "text": [
        "<matplotlib.text.Text at 0x117bae390>"
       ]
      },
      {
       "metadata": {},
       "output_type": "display_data",
       "png": "[encoded data removed]",
       "text": [
        "<matplotlib.figure.Figure at 0x117963278>"
       ]
      }
     ],
     "prompt_number": 115
    },
    {
     "cell_type": "code",
     "collapsed": false,
     "input": [
      "import scipy.stats as stats\n",
      "figsize = (12.5, 4)"
     ],
     "language": "python",
     "metadata": {},
     "outputs": [],
     "prompt_number": 79
    },
    {
     "cell_type": "code",
     "collapsed": true,
     "input": [
      "poi = stats.poisson"
     ],
     "language": "python",
     "metadata": {},
     "outputs": [],
     "prompt_number": 80
    },
    {
     "cell_type": "code",
     "collapsed": true,
     "input": [
      "lambda_ = [1.5, 4.5]\n",
      "colors = ['#348ABD', '#A60628']"
     ],
     "language": "python",
     "metadata": {},
     "outputs": [],
     "prompt_number": 81
    },
    {
     "cell_type": "code",
     "collapsed": false,
     "input": [
      "a = np.arange(16)\n",
      "plt.bar(a, poi.pmf(a, lambda_[0]), color=colors[0], label='$\\lambda = %.1f$' % lambda_[0], alpha=0.60, edgecolor=colors[0], lw='3')\n",
      "plt.bar(a, poi.pmf(a, lambda_[1]), color=colors[1], label='$\\lambda = %.1f$' % lambda_[1], alpha=0.60, edgecolor=colors[0], lw='3')\n",
      "\n",
      "plt.xticks(a + 0.4, a) # \u6a2a\u8ef8\n",
      "plt.legend()\n"
     ],
     "language": "python",
     "metadata": {},
     "outputs": [
      {
       "metadata": {},
       "output_type": "pyout",
       "prompt_number": 82,
       "text": [
        "<matplotlib.legend.Legend at 0x114824400>"
       ]
      },
      {
       "metadata": {},
       "output_type": "display_data",
       "png": "[encoded data removed]",
       "text": [
        "<matplotlib.figure.Figure at 0x114824438>"
       ]
      }
     ],
     "prompt_number": 82
    },
    {
     "cell_type": "code",
     "collapsed": false,
     "input": [
      "a = np.linspace(0, 4, 100)\n",
      "expo = stats.expon\n",
      "lambda_ = [0.5, 1]"
     ],
     "language": "python",
     "metadata": {},
     "outputs": [],
     "prompt_number": 83
    },
    {
     "cell_type": "code",
     "collapsed": false,
     "input": [
      "for l, c in zip(lambda_, colors):\n",
      "    plt.plot(a, expo.pdf(a, scale=1. / l), lw=3, color = c, label='$\\lambda = %.1f$' % l)\n",
      "    plt.fill_between(a, expo.pdf(a, scale=1. /l), color=c, alpha=.33) # \u5857\u308a\u3064\u3076\u3057\n",
      "\n",
      "plt.legend()\n",
      "plt.ylim(0, 1.2)"
     ],
     "language": "python",
     "metadata": {},
     "outputs": [
      {
       "metadata": {},
       "output_type": "pyout",
       "prompt_number": 84,
       "text": [
        "(0, 1.2)"
       ]
      },
      {
       "output_type": "stream",
       "stream": "stderr",
       "text": [
        "/Users/01001272/.pyenv/versions/anaconda3-2.1.0/lib/python3.4/site-packages/matplotlib/collections.py:571: FutureWarning: elementwise comparison failed; returning scalar instead, but in the future will perform elementwise comparison\n",
        "  if self._edgecolors == str('face'):\n"
       ]
      },
      {
       "metadata": {},
       "output_type": "display_data",
       "png": "[encoded data removed]",
       "text": [
        "<matplotlib.figure.Figure at 0x10407c198>"
       ]
      }
     ],
     "prompt_number": 84
    },
    {
     "cell_type": "code",
     "collapsed": false,
     "input": [
      "from os import makedirs\n",
      "makedirs('data', exist_ok=True)"
     ],
     "language": "python",
     "metadata": {},
     "outputs": [],
     "prompt_number": 85
    },
    {
     "cell_type": "code",
     "collapsed": false,
     "input": [
      "from urllib.request import urlretrieve"
     ],
     "language": "python",
     "metadata": {},
     "outputs": [],
     "prompt_number": 86
    },
    {
     "cell_type": "code",
     "collapsed": false,
     "input": [
      "urlretrieve('https://git.io/vXTVC', 'data/txtdata.csv')"
     ],
     "language": "python",
     "metadata": {},
     "outputs": [
      {
       "metadata": {},
       "output_type": "pyout",
       "prompt_number": 87,
       "text": [
        "('data/txtdata.csv', <http.client.HTTPMessage at 0x1163e0dd8>)"
       ]
      }
     ],
     "prompt_number": 87
    },
    {
     "cell_type": "code",
     "collapsed": false,
     "input": [
      "figsize=(12.5, 3.5)\n",
      "\n",
      "count_data = np.loadtxt('data/txtdata.csv')\n",
      "n_count_data = len(count_data)\n",
      "plt.bar(np.arange(n_count_data), count_data, color=colors[0])\n",
      "\n",
      "plt.xlabel('time(days)')\n",
      "plt.ylabel('text messages received')\n",
      "plt.title(\"did the user's texting habits change over time?\")\n",
      "plt.xlim(0, n_count_data)"
     ],
     "language": "python",
     "metadata": {},
     "outputs": [
      {
       "metadata": {},
       "output_type": "pyout",
       "prompt_number": 88,
       "text": [
        "(0, 74)"
       ]
      },
      {
       "metadata": {},
       "output_type": "display_data",
       "png": "[encoded data removed]",
       "text": [
        "<matplotlib.figure.Figure at 0x1147cd780>"
       ]
      }
     ],
     "prompt_number": 88
    },
    {
     "cell_type": "code",
     "collapsed": false,
     "input": [
      "import pymc as pm\n",
      "\n",
      "alpha = 1.0 / count_data.mean()\n",
      "\n",
      "lambda_1 = pm.Exponential('lambda_1', alpha)\n",
      "lambda_2 = pm.Exponential('lambda_2', alpha)"
     ],
     "language": "python",
     "metadata": {},
     "outputs": [],
     "prompt_number": 89
    },
    {
     "cell_type": "code",
     "collapsed": false,
     "input": [
      "tau = pm.DiscreteUniform('tau', lower=0, upper=n_count_data)"
     ],
     "language": "python",
     "metadata": {},
     "outputs": [],
     "prompt_number": 90
    },
    {
     "cell_type": "code",
     "collapsed": false,
     "input": [
      "print('random output:', tau.random(), tau.rand(), tau.random())"
     ],
     "language": "python",
     "metadata": {},
     "outputs": [
      {
       "output_type": "stream",
       "stream": "stdout",
       "text": [
        "random output: 2 66 40\n"
       ]
      }
     ],
     "prompt_number": 91
    },
    {
     "cell_type": "code",
     "collapsed": false,
     "input": [
      "@pm.deterministic\n",
      "def lambda_(tau=tau, lambda_1 = lambda_1, lambda_2= lambda_2):\n",
      "    out = np.zeros(n_count_data)\n",
      "    out[:tau] = lambda_1\n",
      "    out[tau:] = lambda_2\n",
      "    return out"
     ],
     "language": "python",
     "metadata": {},
     "outputs": [],
     "prompt_number": 92
    },
    {
     "cell_type": "code",
     "collapsed": false,
     "input": [
      "observation = pm.Poisson('obs', lambda_, value= count_data, observed=True)\n",
      "model = pm.Model([observation, lambda_1, lambda_2, tau])"
     ],
     "language": "python",
     "metadata": {},
     "outputs": [],
     "prompt_number": 93
    },
    {
     "cell_type": "code",
     "collapsed": false,
     "input": [
      "mcmc = pm.MCMC(model)\n",
      "mcmc.sample(40000, 10000) # 40000 - 10000\u306e30000\u306e\u30b5\u30f3\u30d7\u30eb\u3092\u751f\u6210"
     ],
     "language": "python",
     "metadata": {},
     "outputs": [
      {
       "output_type": "stream",
       "stream": "stdout",
       "text": [
        "\r",
        " [---              10%                  ] 4013 of 40000 complete in 0.5 sec"
       ]
      },
      {
       "output_type": "stream",
       "stream": "stdout",
       "text": [
        "\r",
        " [------           18%                  ] 7328 of 40000 complete in 1.0 sec"
       ]
      },
      {
       "output_type": "stream",
       "stream": "stdout",
       "text": [
        "\r",
        " [----------       26%                  ] 10726 of 40000 complete in 1.5 sec"
       ]
      },
      {
       "output_type": "stream",
       "stream": "stdout",
       "text": [
        "\r",
        " [-------------    35%                  ] 14047 of 40000 complete in 2.0 sec"
       ]
      },
      {
       "output_type": "stream",
       "stream": "stdout",
       "text": [
        "\r",
        " [---------------- 43%                  ] 17429 of 40000 complete in 2.5 sec"
       ]
      },
      {
       "output_type": "stream",
       "stream": "stdout",
       "text": [
        "\r",
        " [-----------------52%                  ] 20852 of 40000 complete in 3.0 sec"
       ]
      },
      {
       "output_type": "stream",
       "stream": "stdout",
       "text": [
        "\r",
        " [-----------------60%---               ] 24279 of 40000 complete in 3.5 sec"
       ]
      },
      {
       "output_type": "stream",
       "stream": "stdout",
       "text": [
        "\r",
        " [-----------------69%------            ] 27746 of 40000 complete in 4.0 sec"
       ]
      },
      {
       "output_type": "stream",
       "stream": "stdout",
       "text": [
        "\r",
        " [-----------------77%---------         ] 31179 of 40000 complete in 4.5 sec"
       ]
      },
      {
       "output_type": "stream",
       "stream": "stdout",
       "text": [
        "\r",
        " [-----------------86%------------      ] 34627 of 40000 complete in 5.0 sec"
       ]
      },
      {
       "output_type": "stream",
       "stream": "stdout",
       "text": [
        "\r",
        " [-----------------95%----------------  ] 38076 of 40000 complete in 5.5 sec"
       ]
      },
      {
       "output_type": "stream",
       "stream": "stdout",
       "text": [
        "\r",
        " [-----------------100%-----------------] 40000 of 40000 complete in 5.8 sec"
       ]
      }
     ],
     "prompt_number": 94
    },
    {
     "cell_type": "code",
     "collapsed": false,
     "input": [
      "lambda_1_samples = mcmc.trace('lambda_1')[:]\n",
      "lambda_2_samples = mcmc.trace('lambda_2')[:]\n",
      "tau_samples = mcmc.trace('tau')[:]\n",
      "\n",
      "from IPython.core.pylabtools import figsize\n",
      "\n",
      "figsize(14.5, 10)"
     ],
     "language": "python",
     "metadata": {},
     "outputs": [],
     "prompt_number": 102
    },
    {
     "cell_type": "code",
     "collapsed": false,
     "input": [
      "# \u30b5\u30f3\u30d7\u30eb\u306e\u30d2\u30b9\u30c8\u30b0\u30e9\u30e0\n",
      "ax = plt.subplot(311)\n",
      "ax.set_autoscaley_on(False)\n",
      "plt.hist(lambda_1_samples, histtype='stepfilled', bins=30, alpha=0.85, color=colors[1], normed=True, label='posterior of $\\lambda_1$')\n",
      "plt.legend(loc='upper left')\n",
      "plt.title('posterior distributions of the parameters r \"$\\lambda_1 , \\lambda_2, \\tau$\"')\n",
      "plt.xlim([15, 30])\n",
      "plt.xlabel(\"$\\lambda_1$ value\")\n",
      "plt.ylabel('density') # \u5bc6\u5ea6\u95a2\u6570\u5024\n",
      "\n",
      "ax = plt.subplot(312)\n",
      "ax.set_autoscaley_on(False)\n",
      "plt.hist(lambda_2_samples, histtype='stepfilled', bins=30, alpha=0.85, color='#7A68A6', normed=True, label='posterior of $\\lambda_2$')\n",
      "plt.legend(loc='upper left')\n",
      "plt.xlim([15, 30])\n",
      "plt.xlabel(\"$\\lambda_2$ value\")\n",
      "plt.ylabel('density') # \u5bc6\u5ea6\u95a2\u6570\u5024"
     ],
     "language": "python",
     "metadata": {},
     "outputs": [
      {
       "metadata": {},
       "output_type": "pyout",
       "prompt_number": 104,
       "text": [
        "<matplotlib.text.Text at 0x116fbeba8>"
       ]
      },
      {
       "metadata": {},
       "output_type": "display_data",
       "png": "[encoded data removed]",
       "text": [
        "<matplotlib.figure.Figure at 0x116cd6eb8>"
       ]
      }
     ],
     "prompt_number": 104
    },
    {
     "cell_type": "code",
     "collapsed": false,
     "input": [],
     "language": "python",
     "metadata": {},
     "outputs": []
    },
    {
     "cell_type": "code",
     "collapsed": false,
     "input": [],
     "language": "python",
     "metadata": {},
     "outputs": []
    }
   ],
   "metadata": {}
  }
 ]
}