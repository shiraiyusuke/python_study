{
 "metadata": {
  "name": "",
  "signature": "sha256:8d555d82136dc67a4acab01d066ae70ee0a11f0bb75c3316588887a661804095"
 },
 "nbformat": 3,
 "nbformat_minor": 0,
 "worksheets": [
  {
   "cells": [
    {
     "cell_type": "code",
     "collapsed": false,
     "input": [
      "import numpy as np\n",
      "import pandas as pd\n",
      "from pandas import Series, DataFrame\n",
      "from numpy.random import randn"
     ],
     "language": "python",
     "metadata": {},
     "outputs": [],
     "prompt_number": 1
    },
    {
     "cell_type": "code",
     "collapsed": false,
     "input": [
      "ser1 = Series([1, 2, 3, 4], index = ['A', 'B', 'C', 'D'])"
     ],
     "language": "python",
     "metadata": {},
     "outputs": [],
     "prompt_number": 2
    },
    {
     "cell_type": "code",
     "collapsed": false,
     "input": [
      "ser1"
     ],
     "language": "python",
     "metadata": {},
     "outputs": [
      {
       "metadata": {},
       "output_type": "pyout",
       "prompt_number": 3,
       "text": [
        "A    1\n",
        "B    2\n",
        "C    3\n",
        "D    4\n",
        "dtype: int64"
       ]
      }
     ],
     "prompt_number": 3
    },
    {
     "cell_type": "code",
     "collapsed": false,
     "input": [
      "ser2 = ser1.reindex(['A', 'B', 'C', 'D', 'E', 'F']) # index\u3092\u632f\u308a\u306a\u304a\u3059"
     ],
     "language": "python",
     "metadata": {},
     "outputs": [],
     "prompt_number": 4
    },
    {
     "cell_type": "code",
     "collapsed": false,
     "input": [
      "ser2"
     ],
     "language": "python",
     "metadata": {},
     "outputs": [
      {
       "metadata": {},
       "output_type": "pyout",
       "prompt_number": 5,
       "text": [
        "A     1\n",
        "B     2\n",
        "C     3\n",
        "D     4\n",
        "E   NaN\n",
        "F   NaN\n",
        "dtype: float64"
       ]
      }
     ],
     "prompt_number": 5
    },
    {
     "cell_type": "code",
     "collapsed": false,
     "input": [
      "ser2.reindex(['A', 'B', 'C', 'D', 'E', 'F', 'G'], fill_value=0) # fill_value\u3092\u30c7\u30d5\u30a9\u30eb\u30c8\u5024\u3068\u3057\u3066\u6307\u5b9a"
     ],
     "language": "python",
     "metadata": {},
     "outputs": [
      {
       "metadata": {},
       "output_type": "pyout",
       "prompt_number": 6,
       "text": [
        "A     1\n",
        "B     2\n",
        "C     3\n",
        "D     4\n",
        "E   NaN\n",
        "F   NaN\n",
        "G     0\n",
        "dtype: float64"
       ]
      }
     ],
     "prompt_number": 6
    },
    {
     "cell_type": "code",
     "collapsed": false,
     "input": [
      "ser2"
     ],
     "language": "python",
     "metadata": {},
     "outputs": [
      {
       "metadata": {},
       "output_type": "pyout",
       "prompt_number": 7,
       "text": [
        "A     1\n",
        "B     2\n",
        "C     3\n",
        "D     4\n",
        "E   NaN\n",
        "F   NaN\n",
        "dtype: float64"
       ]
      }
     ],
     "prompt_number": 7
    },
    {
     "cell_type": "code",
     "collapsed": false,
     "input": [
      "ser3 = Series(['USA', 'Mexico', 'Canada'], index = [0, 5, 10])"
     ],
     "language": "python",
     "metadata": {},
     "outputs": [],
     "prompt_number": 8
    },
    {
     "cell_type": "code",
     "collapsed": false,
     "input": [
      "ser3"
     ],
     "language": "python",
     "metadata": {},
     "outputs": [
      {
       "metadata": {},
       "output_type": "pyout",
       "prompt_number": 9,
       "text": [
        "0        USA\n",
        "5     Mexico\n",
        "10    Canada\n",
        "dtype: object"
       ]
      }
     ],
     "prompt_number": 9
    },
    {
     "cell_type": "code",
     "collapsed": false,
     "input": [
      "ser3.reindex(range(15), method='ffill') #ffill(foword fill)\u3092\u6307\u5b9a\u3059\u308b\u3068\u3001\u524d\u306b\u5411\u304b\u3063\u3066\u524d\u3068\u540c\u3058\u5024\u3067\u57cb\u307e\u308b"
     ],
     "language": "python",
     "metadata": {},
     "outputs": [
      {
       "metadata": {},
       "output_type": "pyout",
       "prompt_number": 10,
       "text": [
        "0        USA\n",
        "1        USA\n",
        "2        USA\n",
        "3        USA\n",
        "4        USA\n",
        "5     Mexico\n",
        "6     Mexico\n",
        "7     Mexico\n",
        "8     Mexico\n",
        "9     Mexico\n",
        "10    Canada\n",
        "11    Canada\n",
        "12    Canada\n",
        "13    Canada\n",
        "14    Canada\n",
        "dtype: object"
       ]
      }
     ],
     "prompt_number": 10
    },
    {
     "cell_type": "code",
     "collapsed": false,
     "input": [
      "ser3"
     ],
     "language": "python",
     "metadata": {},
     "outputs": [
      {
       "metadata": {},
       "output_type": "pyout",
       "prompt_number": 11,
       "text": [
        "0        USA\n",
        "5     Mexico\n",
        "10    Canada\n",
        "dtype: object"
       ]
      }
     ],
     "prompt_number": 11
    },
    {
     "cell_type": "code",
     "collapsed": false,
     "input": [
      "dframe = DataFrame(randn(25).reshape((5, 5)), index = ['A', 'B', 'D', 'E', 'F'], columns = ['col1', 'col2', 'col3', 'col4', 'col5'])"
     ],
     "language": "python",
     "metadata": {},
     "outputs": [],
     "prompt_number": 13
    },
    {
     "cell_type": "code",
     "collapsed": false,
     "input": [
      "dframe"
     ],
     "language": "python",
     "metadata": {},
     "outputs": [
      {
       "html": [
        "<div style=\"max-height:1000px;max-width:1500px;overflow:auto;\">\n",
        "<table border=\"1\" class=\"dataframe\">\n",
        "  <thead>\n",
        "    <tr style=\"text-align: right;\">\n",
        "      <th></th>\n",
        "      <th>col1</th>\n",
        "      <th>col2</th>\n",
        "      <th>col3</th>\n",
        "      <th>col4</th>\n",
        "      <th>col5</th>\n",
        "    </tr>\n",
        "  </thead>\n",
        "  <tbody>\n",
        "    <tr>\n",
        "      <th>A</th>\n",
        "      <td>-0.663766</td>\n",
        "      <td> 0.895920</td>\n",
        "      <td>-1.106250</td>\n",
        "      <td> 0.648854</td>\n",
        "      <td>-0.867976</td>\n",
        "    </tr>\n",
        "    <tr>\n",
        "      <th>B</th>\n",
        "      <td> 1.372050</td>\n",
        "      <td> 0.158120</td>\n",
        "      <td> 0.156590</td>\n",
        "      <td>-0.175323</td>\n",
        "      <td> 1.153051</td>\n",
        "    </tr>\n",
        "    <tr>\n",
        "      <th>D</th>\n",
        "      <td>-0.537269</td>\n",
        "      <td>-0.295409</td>\n",
        "      <td> 0.004486</td>\n",
        "      <td> 0.392967</td>\n",
        "      <td> 0.698240</td>\n",
        "    </tr>\n",
        "    <tr>\n",
        "      <th>E</th>\n",
        "      <td> 1.147035</td>\n",
        "      <td> 0.215915</td>\n",
        "      <td> 1.823353</td>\n",
        "      <td>-1.622199</td>\n",
        "      <td> 1.423143</td>\n",
        "    </tr>\n",
        "    <tr>\n",
        "      <th>F</th>\n",
        "      <td> 1.823963</td>\n",
        "      <td>-0.561262</td>\n",
        "      <td>-0.944582</td>\n",
        "      <td> 0.266824</td>\n",
        "      <td>-0.488842</td>\n",
        "    </tr>\n",
        "  </tbody>\n",
        "</table>\n",
        "</div>"
       ],
       "metadata": {},
       "output_type": "pyout",
       "prompt_number": 14,
       "text": [
        "       col1      col2      col3      col4      col5\n",
        "A -0.663766  0.895920 -1.106250  0.648854 -0.867976\n",
        "B  1.372050  0.158120  0.156590 -0.175323  1.153051\n",
        "D -0.537269 -0.295409  0.004486  0.392967  0.698240\n",
        "E  1.147035  0.215915  1.823353 -1.622199  1.423143\n",
        "F  1.823963 -0.561262 -0.944582  0.266824 -0.488842"
       ]
      }
     ],
     "prompt_number": 14
    },
    {
     "cell_type": "code",
     "collapsed": false,
     "input": [
      "new_index = ['A', 'B', 'C', 'D', 'E', 'F']\n",
      "dframe2 = dframe.reindex(new_index) # index\u5f35\u308a\u66ff\u3048"
     ],
     "language": "python",
     "metadata": {},
     "outputs": [],
     "prompt_number": 15
    },
    {
     "cell_type": "code",
     "collapsed": false,
     "input": [
      "dframe2"
     ],
     "language": "python",
     "metadata": {},
     "outputs": [
      {
       "html": [
        "<div style=\"max-height:1000px;max-width:1500px;overflow:auto;\">\n",
        "<table border=\"1\" class=\"dataframe\">\n",
        "  <thead>\n",
        "    <tr style=\"text-align: right;\">\n",
        "      <th></th>\n",
        "      <th>col1</th>\n",
        "      <th>col2</th>\n",
        "      <th>col3</th>\n",
        "      <th>col4</th>\n",
        "      <th>col5</th>\n",
        "    </tr>\n",
        "  </thead>\n",
        "  <tbody>\n",
        "    <tr>\n",
        "      <th>A</th>\n",
        "      <td>-0.663766</td>\n",
        "      <td> 0.895920</td>\n",
        "      <td>-1.106250</td>\n",
        "      <td> 0.648854</td>\n",
        "      <td>-0.867976</td>\n",
        "    </tr>\n",
        "    <tr>\n",
        "      <th>B</th>\n",
        "      <td> 1.372050</td>\n",
        "      <td> 0.158120</td>\n",
        "      <td> 0.156590</td>\n",
        "      <td>-0.175323</td>\n",
        "      <td> 1.153051</td>\n",
        "    </tr>\n",
        "    <tr>\n",
        "      <th>C</th>\n",
        "      <td>      NaN</td>\n",
        "      <td>      NaN</td>\n",
        "      <td>      NaN</td>\n",
        "      <td>      NaN</td>\n",
        "      <td>      NaN</td>\n",
        "    </tr>\n",
        "    <tr>\n",
        "      <th>D</th>\n",
        "      <td>-0.537269</td>\n",
        "      <td>-0.295409</td>\n",
        "      <td> 0.004486</td>\n",
        "      <td> 0.392967</td>\n",
        "      <td> 0.698240</td>\n",
        "    </tr>\n",
        "    <tr>\n",
        "      <th>E</th>\n",
        "      <td> 1.147035</td>\n",
        "      <td> 0.215915</td>\n",
        "      <td> 1.823353</td>\n",
        "      <td>-1.622199</td>\n",
        "      <td> 1.423143</td>\n",
        "    </tr>\n",
        "    <tr>\n",
        "      <th>F</th>\n",
        "      <td> 1.823963</td>\n",
        "      <td>-0.561262</td>\n",
        "      <td>-0.944582</td>\n",
        "      <td> 0.266824</td>\n",
        "      <td>-0.488842</td>\n",
        "    </tr>\n",
        "  </tbody>\n",
        "</table>\n",
        "</div>"
       ],
       "metadata": {},
       "output_type": "pyout",
       "prompt_number": 16,
       "text": [
        "       col1      col2      col3      col4      col5\n",
        "A -0.663766  0.895920 -1.106250  0.648854 -0.867976\n",
        "B  1.372050  0.158120  0.156590 -0.175323  1.153051\n",
        "C       NaN       NaN       NaN       NaN       NaN\n",
        "D -0.537269 -0.295409  0.004486  0.392967  0.698240\n",
        "E  1.147035  0.215915  1.823353 -1.622199  1.423143\n",
        "F  1.823963 -0.561262 -0.944582  0.266824 -0.488842"
       ]
      }
     ],
     "prompt_number": 16
    },
    {
     "cell_type": "code",
     "collapsed": false,
     "input": [
      "new_columns = ['col1', 'col2', 'col3', 'col4', 'col5', 'col6']\n",
      "dframe2.reindex(columns = new_columns)"
     ],
     "language": "python",
     "metadata": {},
     "outputs": [
      {
       "html": [
        "<div style=\"max-height:1000px;max-width:1500px;overflow:auto;\">\n",
        "<table border=\"1\" class=\"dataframe\">\n",
        "  <thead>\n",
        "    <tr style=\"text-align: right;\">\n",
        "      <th></th>\n",
        "      <th>col1</th>\n",
        "      <th>col2</th>\n",
        "      <th>col3</th>\n",
        "      <th>col4</th>\n",
        "      <th>col5</th>\n",
        "      <th>col6</th>\n",
        "    </tr>\n",
        "  </thead>\n",
        "  <tbody>\n",
        "    <tr>\n",
        "      <th>A</th>\n",
        "      <td>-0.663766</td>\n",
        "      <td> 0.895920</td>\n",
        "      <td>-1.106250</td>\n",
        "      <td> 0.648854</td>\n",
        "      <td>-0.867976</td>\n",
        "      <td>NaN</td>\n",
        "    </tr>\n",
        "    <tr>\n",
        "      <th>B</th>\n",
        "      <td> 1.372050</td>\n",
        "      <td> 0.158120</td>\n",
        "      <td> 0.156590</td>\n",
        "      <td>-0.175323</td>\n",
        "      <td> 1.153051</td>\n",
        "      <td>NaN</td>\n",
        "    </tr>\n",
        "    <tr>\n",
        "      <th>C</th>\n",
        "      <td>      NaN</td>\n",
        "      <td>      NaN</td>\n",
        "      <td>      NaN</td>\n",
        "      <td>      NaN</td>\n",
        "      <td>      NaN</td>\n",
        "      <td>NaN</td>\n",
        "    </tr>\n",
        "    <tr>\n",
        "      <th>D</th>\n",
        "      <td>-0.537269</td>\n",
        "      <td>-0.295409</td>\n",
        "      <td> 0.004486</td>\n",
        "      <td> 0.392967</td>\n",
        "      <td> 0.698240</td>\n",
        "      <td>NaN</td>\n",
        "    </tr>\n",
        "    <tr>\n",
        "      <th>E</th>\n",
        "      <td> 1.147035</td>\n",
        "      <td> 0.215915</td>\n",
        "      <td> 1.823353</td>\n",
        "      <td>-1.622199</td>\n",
        "      <td> 1.423143</td>\n",
        "      <td>NaN</td>\n",
        "    </tr>\n",
        "    <tr>\n",
        "      <th>F</th>\n",
        "      <td> 1.823963</td>\n",
        "      <td>-0.561262</td>\n",
        "      <td>-0.944582</td>\n",
        "      <td> 0.266824</td>\n",
        "      <td>-0.488842</td>\n",
        "      <td>NaN</td>\n",
        "    </tr>\n",
        "  </tbody>\n",
        "</table>\n",
        "</div>"
       ],
       "metadata": {},
       "output_type": "pyout",
       "prompt_number": 17,
       "text": [
        "       col1      col2      col3      col4      col5  col6\n",
        "A -0.663766  0.895920 -1.106250  0.648854 -0.867976   NaN\n",
        "B  1.372050  0.158120  0.156590 -0.175323  1.153051   NaN\n",
        "C       NaN       NaN       NaN       NaN       NaN   NaN\n",
        "D -0.537269 -0.295409  0.004486  0.392967  0.698240   NaN\n",
        "E  1.147035  0.215915  1.823353 -1.622199  1.423143   NaN\n",
        "F  1.823963 -0.561262 -0.944582  0.266824 -0.488842   NaN"
       ]
      }
     ],
     "prompt_number": 17
    },
    {
     "cell_type": "code",
     "collapsed": false,
     "input": [
      "dframe"
     ],
     "language": "python",
     "metadata": {},
     "outputs": [
      {
       "html": [
        "<div style=\"max-height:1000px;max-width:1500px;overflow:auto;\">\n",
        "<table border=\"1\" class=\"dataframe\">\n",
        "  <thead>\n",
        "    <tr style=\"text-align: right;\">\n",
        "      <th></th>\n",
        "      <th>col1</th>\n",
        "      <th>col2</th>\n",
        "      <th>col3</th>\n",
        "      <th>col4</th>\n",
        "      <th>col5</th>\n",
        "    </tr>\n",
        "  </thead>\n",
        "  <tbody>\n",
        "    <tr>\n",
        "      <th>A</th>\n",
        "      <td>-0.663766</td>\n",
        "      <td> 0.895920</td>\n",
        "      <td>-1.106250</td>\n",
        "      <td> 0.648854</td>\n",
        "      <td>-0.867976</td>\n",
        "    </tr>\n",
        "    <tr>\n",
        "      <th>B</th>\n",
        "      <td> 1.372050</td>\n",
        "      <td> 0.158120</td>\n",
        "      <td> 0.156590</td>\n",
        "      <td>-0.175323</td>\n",
        "      <td> 1.153051</td>\n",
        "    </tr>\n",
        "    <tr>\n",
        "      <th>D</th>\n",
        "      <td>-0.537269</td>\n",
        "      <td>-0.295409</td>\n",
        "      <td> 0.004486</td>\n",
        "      <td> 0.392967</td>\n",
        "      <td> 0.698240</td>\n",
        "    </tr>\n",
        "    <tr>\n",
        "      <th>E</th>\n",
        "      <td> 1.147035</td>\n",
        "      <td> 0.215915</td>\n",
        "      <td> 1.823353</td>\n",
        "      <td>-1.622199</td>\n",
        "      <td> 1.423143</td>\n",
        "    </tr>\n",
        "    <tr>\n",
        "      <th>F</th>\n",
        "      <td> 1.823963</td>\n",
        "      <td>-0.561262</td>\n",
        "      <td>-0.944582</td>\n",
        "      <td> 0.266824</td>\n",
        "      <td>-0.488842</td>\n",
        "    </tr>\n",
        "  </tbody>\n",
        "</table>\n",
        "</div>"
       ],
       "metadata": {},
       "output_type": "pyout",
       "prompt_number": 18,
       "text": [
        "       col1      col2      col3      col4      col5\n",
        "A -0.663766  0.895920 -1.106250  0.648854 -0.867976\n",
        "B  1.372050  0.158120  0.156590 -0.175323  1.153051\n",
        "D -0.537269 -0.295409  0.004486  0.392967  0.698240\n",
        "E  1.147035  0.215915  1.823353 -1.622199  1.423143\n",
        "F  1.823963 -0.561262 -0.944582  0.266824 -0.488842"
       ]
      }
     ],
     "prompt_number": 18
    },
    {
     "cell_type": "code",
     "collapsed": false,
     "input": [
      "dframe.ix[new_index, new_columns] # index,column\u3092\u540c\u6642\u306b\u3064\u3051\u304b\u3048\u308b\u3002"
     ],
     "language": "python",
     "metadata": {},
     "outputs": [
      {
       "html": [
        "<div style=\"max-height:1000px;max-width:1500px;overflow:auto;\">\n",
        "<table border=\"1\" class=\"dataframe\">\n",
        "  <thead>\n",
        "    <tr style=\"text-align: right;\">\n",
        "      <th></th>\n",
        "      <th>col1</th>\n",
        "      <th>col2</th>\n",
        "      <th>col3</th>\n",
        "      <th>col4</th>\n",
        "      <th>col5</th>\n",
        "      <th>col6</th>\n",
        "    </tr>\n",
        "  </thead>\n",
        "  <tbody>\n",
        "    <tr>\n",
        "      <th>A</th>\n",
        "      <td>-0.663766</td>\n",
        "      <td> 0.895920</td>\n",
        "      <td>-1.106250</td>\n",
        "      <td> 0.648854</td>\n",
        "      <td>-0.867976</td>\n",
        "      <td>NaN</td>\n",
        "    </tr>\n",
        "    <tr>\n",
        "      <th>B</th>\n",
        "      <td> 1.372050</td>\n",
        "      <td> 0.158120</td>\n",
        "      <td> 0.156590</td>\n",
        "      <td>-0.175323</td>\n",
        "      <td> 1.153051</td>\n",
        "      <td>NaN</td>\n",
        "    </tr>\n",
        "    <tr>\n",
        "      <th>C</th>\n",
        "      <td>      NaN</td>\n",
        "      <td>      NaN</td>\n",
        "      <td>      NaN</td>\n",
        "      <td>      NaN</td>\n",
        "      <td>      NaN</td>\n",
        "      <td>NaN</td>\n",
        "    </tr>\n",
        "    <tr>\n",
        "      <th>D</th>\n",
        "      <td>-0.537269</td>\n",
        "      <td>-0.295409</td>\n",
        "      <td> 0.004486</td>\n",
        "      <td> 0.392967</td>\n",
        "      <td> 0.698240</td>\n",
        "      <td>NaN</td>\n",
        "    </tr>\n",
        "    <tr>\n",
        "      <th>E</th>\n",
        "      <td> 1.147035</td>\n",
        "      <td> 0.215915</td>\n",
        "      <td> 1.823353</td>\n",
        "      <td>-1.622199</td>\n",
        "      <td> 1.423143</td>\n",
        "      <td>NaN</td>\n",
        "    </tr>\n",
        "    <tr>\n",
        "      <th>F</th>\n",
        "      <td> 1.823963</td>\n",
        "      <td>-0.561262</td>\n",
        "      <td>-0.944582</td>\n",
        "      <td> 0.266824</td>\n",
        "      <td>-0.488842</td>\n",
        "      <td>NaN</td>\n",
        "    </tr>\n",
        "  </tbody>\n",
        "</table>\n",
        "</div>"
       ],
       "metadata": {},
       "output_type": "pyout",
       "prompt_number": 19,
       "text": [
        "       col1      col2      col3      col4      col5  col6\n",
        "A -0.663766  0.895920 -1.106250  0.648854 -0.867976   NaN\n",
        "B  1.372050  0.158120  0.156590 -0.175323  1.153051   NaN\n",
        "C       NaN       NaN       NaN       NaN       NaN   NaN\n",
        "D -0.537269 -0.295409  0.004486  0.392967  0.698240   NaN\n",
        "E  1.147035  0.215915  1.823353 -1.622199  1.423143   NaN\n",
        "F  1.823963 -0.561262 -0.944582  0.266824 -0.488842   NaN"
       ]
      }
     ],
     "prompt_number": 19
    }
   ],
   "metadata": {}
  }
 ]
}