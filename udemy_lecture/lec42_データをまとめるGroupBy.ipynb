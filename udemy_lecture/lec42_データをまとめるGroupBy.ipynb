{
 "metadata": {
  "name": "",
  "signature": "sha256:92e6a9081a8b4441c52337e2cc70f6d28626145dcd5fa1d04031debfc2e1dc7e"
 },
 "nbformat": 3,
 "nbformat_minor": 0,
 "worksheets": [
  {
   "cells": [
    {
     "cell_type": "code",
     "collapsed": false,
     "input": [
      "import numpy as np\n",
      "import pandas as pd\n",
      "from pandas import DataFrame"
     ],
     "language": "python",
     "metadata": {},
     "outputs": [],
     "prompt_number": 1
    },
    {
     "cell_type": "code",
     "collapsed": false,
     "input": [
      "dframe = DataFrame({'k1' : ['X', 'X', 'Y', 'Y', 'Z'],\n",
      "                                       'k2' : ['alpha', 'beta', 'alpha', 'beta', 'alpha'],\n",
      "                                       'dataset1' : np.random.randn(5),\n",
      "                                       'dataset2' : np.random.randn(5)})"
     ],
     "language": "python",
     "metadata": {},
     "outputs": [],
     "prompt_number": 5
    },
    {
     "cell_type": "code",
     "collapsed": false,
     "input": [
      "dframe"
     ],
     "language": "python",
     "metadata": {},
     "outputs": [
      {
       "html": [
        "<div style=\"max-height:1000px;max-width:1500px;overflow:auto;\">\n",
        "<table border=\"1\" class=\"dataframe\">\n",
        "  <thead>\n",
        "    <tr style=\"text-align: right;\">\n",
        "      <th></th>\n",
        "      <th>dataset1</th>\n",
        "      <th>dataset2</th>\n",
        "      <th>k1</th>\n",
        "      <th>k2</th>\n",
        "    </tr>\n",
        "  </thead>\n",
        "  <tbody>\n",
        "    <tr>\n",
        "      <th>0</th>\n",
        "      <td> 1.481754</td>\n",
        "      <td> 0.618496</td>\n",
        "      <td> X</td>\n",
        "      <td> alpha</td>\n",
        "    </tr>\n",
        "    <tr>\n",
        "      <th>1</th>\n",
        "      <td> 1.155727</td>\n",
        "      <td> 0.194219</td>\n",
        "      <td> X</td>\n",
        "      <td>  beta</td>\n",
        "    </tr>\n",
        "    <tr>\n",
        "      <th>2</th>\n",
        "      <td> 0.926681</td>\n",
        "      <td> 1.075756</td>\n",
        "      <td> Y</td>\n",
        "      <td> alpha</td>\n",
        "    </tr>\n",
        "    <tr>\n",
        "      <th>3</th>\n",
        "      <td> 1.152604</td>\n",
        "      <td> 0.856419</td>\n",
        "      <td> Y</td>\n",
        "      <td>  beta</td>\n",
        "    </tr>\n",
        "    <tr>\n",
        "      <th>4</th>\n",
        "      <td> 0.289140</td>\n",
        "      <td> 0.617901</td>\n",
        "      <td> Z</td>\n",
        "      <td> alpha</td>\n",
        "    </tr>\n",
        "  </tbody>\n",
        "</table>\n",
        "</div>"
       ],
       "metadata": {},
       "output_type": "pyout",
       "prompt_number": 6,
       "text": [
        "   dataset1  dataset2 k1     k2\n",
        "0  1.481754  0.618496  X  alpha\n",
        "1  1.155727  0.194219  X   beta\n",
        "2  0.926681  1.075756  Y  alpha\n",
        "3  1.152604  0.856419  Y   beta\n",
        "4  0.289140  0.617901  Z  alpha"
       ]
      }
     ],
     "prompt_number": 6
    },
    {
     "cell_type": "code",
     "collapsed": false,
     "input": [
      "group1 = dframe['dataset1'].groupby(dframe['k1'])"
     ],
     "language": "python",
     "metadata": {},
     "outputs": [],
     "prompt_number": 10
    },
    {
     "cell_type": "code",
     "collapsed": false,
     "input": [
      "group1"
     ],
     "language": "python",
     "metadata": {},
     "outputs": [
      {
       "metadata": {},
       "output_type": "pyout",
       "prompt_number": 11,
       "text": [
        "<pandas.core.groupby.SeriesGroupBy object at 0x1075700b8>"
       ]
      }
     ],
     "prompt_number": 11
    },
    {
     "cell_type": "code",
     "collapsed": false,
     "input": [
      "group1.mean() # \u5e73\u5747\u53d6\u5f97"
     ],
     "language": "python",
     "metadata": {},
     "outputs": [
      {
       "metadata": {},
       "output_type": "pyout",
       "prompt_number": 12,
       "text": [
        "k1\n",
        "X     1.318740\n",
        "Y     1.039643\n",
        "Z     0.289140\n",
        "Name: dataset1, dtype: float64"
       ]
      }
     ],
     "prompt_number": 12
    },
    {
     "cell_type": "code",
     "collapsed": false,
     "input": [
      "cities = np.array([ 'NY',    'LA',   'LA',   'NY',   'NY'])\n",
      "month = np.array(['JAN', 'FEB', 'JAN', 'FEB', 'JAN'])"
     ],
     "language": "python",
     "metadata": {},
     "outputs": [],
     "prompt_number": 13
    },
    {
     "cell_type": "code",
     "collapsed": false,
     "input": [
      "dframe"
     ],
     "language": "python",
     "metadata": {},
     "outputs": [
      {
       "html": [
        "<div style=\"max-height:1000px;max-width:1500px;overflow:auto;\">\n",
        "<table border=\"1\" class=\"dataframe\">\n",
        "  <thead>\n",
        "    <tr style=\"text-align: right;\">\n",
        "      <th></th>\n",
        "      <th>dataset1</th>\n",
        "      <th>dataset2</th>\n",
        "      <th>k1</th>\n",
        "      <th>k2</th>\n",
        "    </tr>\n",
        "  </thead>\n",
        "  <tbody>\n",
        "    <tr>\n",
        "      <th>0</th>\n",
        "      <td> 1.481754</td>\n",
        "      <td> 0.618496</td>\n",
        "      <td> X</td>\n",
        "      <td> alpha</td>\n",
        "    </tr>\n",
        "    <tr>\n",
        "      <th>1</th>\n",
        "      <td> 1.155727</td>\n",
        "      <td> 0.194219</td>\n",
        "      <td> X</td>\n",
        "      <td>  beta</td>\n",
        "    </tr>\n",
        "    <tr>\n",
        "      <th>2</th>\n",
        "      <td> 0.926681</td>\n",
        "      <td> 1.075756</td>\n",
        "      <td> Y</td>\n",
        "      <td> alpha</td>\n",
        "    </tr>\n",
        "    <tr>\n",
        "      <th>3</th>\n",
        "      <td> 1.152604</td>\n",
        "      <td> 0.856419</td>\n",
        "      <td> Y</td>\n",
        "      <td>  beta</td>\n",
        "    </tr>\n",
        "    <tr>\n",
        "      <th>4</th>\n",
        "      <td> 0.289140</td>\n",
        "      <td> 0.617901</td>\n",
        "      <td> Z</td>\n",
        "      <td> alpha</td>\n",
        "    </tr>\n",
        "  </tbody>\n",
        "</table>\n",
        "</div>"
       ],
       "metadata": {},
       "output_type": "pyout",
       "prompt_number": 14,
       "text": [
        "   dataset1  dataset2 k1     k2\n",
        "0  1.481754  0.618496  X  alpha\n",
        "1  1.155727  0.194219  X   beta\n",
        "2  0.926681  1.075756  Y  alpha\n",
        "3  1.152604  0.856419  Y   beta\n",
        "4  0.289140  0.617901  Z  alpha"
       ]
      }
     ],
     "prompt_number": 14
    },
    {
     "cell_type": "code",
     "collapsed": false,
     "input": [
      "dframe['dataset1'].groupby([cities, month]).mean()"
     ],
     "language": "python",
     "metadata": {},
     "outputs": [
      {
       "metadata": {},
       "output_type": "pyout",
       "prompt_number": 15,
       "text": [
        "LA  FEB    1.155727\n",
        "    JAN    0.926681\n",
        "NY  FEB    1.152604\n",
        "    JAN    0.885447\n",
        "Name: dataset1, dtype: float64"
       ]
      }
     ],
     "prompt_number": 15
    },
    {
     "cell_type": "code",
     "collapsed": false,
     "input": [
      "dframe.groupby('k1').mean() # \u30b7\u30f3\u30d7\u30eb\u306agroupby"
     ],
     "language": "python",
     "metadata": {},
     "outputs": [
      {
       "html": [
        "<div style=\"max-height:1000px;max-width:1500px;overflow:auto;\">\n",
        "<table border=\"1\" class=\"dataframe\">\n",
        "  <thead>\n",
        "    <tr style=\"text-align: right;\">\n",
        "      <th></th>\n",
        "      <th>dataset1</th>\n",
        "      <th>dataset2</th>\n",
        "    </tr>\n",
        "    <tr>\n",
        "      <th>k1</th>\n",
        "      <th></th>\n",
        "      <th></th>\n",
        "    </tr>\n",
        "  </thead>\n",
        "  <tbody>\n",
        "    <tr>\n",
        "      <th>X</th>\n",
        "      <td> 1.318740</td>\n",
        "      <td> 0.406357</td>\n",
        "    </tr>\n",
        "    <tr>\n",
        "      <th>Y</th>\n",
        "      <td> 1.039643</td>\n",
        "      <td> 0.966087</td>\n",
        "    </tr>\n",
        "    <tr>\n",
        "      <th>Z</th>\n",
        "      <td> 0.289140</td>\n",
        "      <td> 0.617901</td>\n",
        "    </tr>\n",
        "  </tbody>\n",
        "</table>\n",
        "</div>"
       ],
       "metadata": {},
       "output_type": "pyout",
       "prompt_number": 16,
       "text": [
        "    dataset1  dataset2\n",
        "k1                    \n",
        "X   1.318740  0.406357\n",
        "Y   1.039643  0.966087\n",
        "Z   0.289140  0.617901"
       ]
      }
     ],
     "prompt_number": 16
    },
    {
     "cell_type": "code",
     "collapsed": false,
     "input": [
      "dframe.groupby(['k1', 'k2']).mean()"
     ],
     "language": "python",
     "metadata": {},
     "outputs": [
      {
       "html": [
        "<div style=\"max-height:1000px;max-width:1500px;overflow:auto;\">\n",
        "<table border=\"1\" class=\"dataframe\">\n",
        "  <thead>\n",
        "    <tr style=\"text-align: right;\">\n",
        "      <th></th>\n",
        "      <th></th>\n",
        "      <th>dataset1</th>\n",
        "      <th>dataset2</th>\n",
        "    </tr>\n",
        "    <tr>\n",
        "      <th>k1</th>\n",
        "      <th>k2</th>\n",
        "      <th></th>\n",
        "      <th></th>\n",
        "    </tr>\n",
        "  </thead>\n",
        "  <tbody>\n",
        "    <tr>\n",
        "      <th rowspan=\"2\" valign=\"top\">X</th>\n",
        "      <th>alpha</th>\n",
        "      <td> 1.481754</td>\n",
        "      <td> 0.618496</td>\n",
        "    </tr>\n",
        "    <tr>\n",
        "      <th>beta</th>\n",
        "      <td> 1.155727</td>\n",
        "      <td> 0.194219</td>\n",
        "    </tr>\n",
        "    <tr>\n",
        "      <th rowspan=\"2\" valign=\"top\">Y</th>\n",
        "      <th>alpha</th>\n",
        "      <td> 0.926681</td>\n",
        "      <td> 1.075756</td>\n",
        "    </tr>\n",
        "    <tr>\n",
        "      <th>beta</th>\n",
        "      <td> 1.152604</td>\n",
        "      <td> 0.856419</td>\n",
        "    </tr>\n",
        "    <tr>\n",
        "      <th>Z</th>\n",
        "      <th>alpha</th>\n",
        "      <td> 0.289140</td>\n",
        "      <td> 0.617901</td>\n",
        "    </tr>\n",
        "  </tbody>\n",
        "</table>\n",
        "</div>"
       ],
       "metadata": {},
       "output_type": "pyout",
       "prompt_number": 17,
       "text": [
        "          dataset1  dataset2\n",
        "k1 k2                       \n",
        "X  alpha  1.481754  0.618496\n",
        "   beta   1.155727  0.194219\n",
        "Y  alpha  0.926681  1.075756\n",
        "   beta   1.152604  0.856419\n",
        "Z  alpha  0.289140  0.617901"
       ]
      }
     ],
     "prompt_number": 17
    },
    {
     "cell_type": "code",
     "collapsed": false,
     "input": [
      "dframe"
     ],
     "language": "python",
     "metadata": {},
     "outputs": [
      {
       "html": [
        "<div style=\"max-height:1000px;max-width:1500px;overflow:auto;\">\n",
        "<table border=\"1\" class=\"dataframe\">\n",
        "  <thead>\n",
        "    <tr style=\"text-align: right;\">\n",
        "      <th></th>\n",
        "      <th>dataset1</th>\n",
        "      <th>dataset2</th>\n",
        "      <th>k1</th>\n",
        "      <th>k2</th>\n",
        "    </tr>\n",
        "  </thead>\n",
        "  <tbody>\n",
        "    <tr>\n",
        "      <th>0</th>\n",
        "      <td> 1.481754</td>\n",
        "      <td> 0.618496</td>\n",
        "      <td> X</td>\n",
        "      <td> alpha</td>\n",
        "    </tr>\n",
        "    <tr>\n",
        "      <th>1</th>\n",
        "      <td> 1.155727</td>\n",
        "      <td> 0.194219</td>\n",
        "      <td> X</td>\n",
        "      <td>  beta</td>\n",
        "    </tr>\n",
        "    <tr>\n",
        "      <th>2</th>\n",
        "      <td> 0.926681</td>\n",
        "      <td> 1.075756</td>\n",
        "      <td> Y</td>\n",
        "      <td> alpha</td>\n",
        "    </tr>\n",
        "    <tr>\n",
        "      <th>3</th>\n",
        "      <td> 1.152604</td>\n",
        "      <td> 0.856419</td>\n",
        "      <td> Y</td>\n",
        "      <td>  beta</td>\n",
        "    </tr>\n",
        "    <tr>\n",
        "      <th>4</th>\n",
        "      <td> 0.289140</td>\n",
        "      <td> 0.617901</td>\n",
        "      <td> Z</td>\n",
        "      <td> alpha</td>\n",
        "    </tr>\n",
        "  </tbody>\n",
        "</table>\n",
        "</div>"
       ],
       "metadata": {},
       "output_type": "pyout",
       "prompt_number": 19,
       "text": [
        "   dataset1  dataset2 k1     k2\n",
        "0  1.481754  0.618496  X  alpha\n",
        "1  1.155727  0.194219  X   beta\n",
        "2  0.926681  1.075756  Y  alpha\n",
        "3  1.152604  0.856419  Y   beta\n",
        "4  0.289140  0.617901  Z  alpha"
       ]
      }
     ],
     "prompt_number": 19
    },
    {
     "cell_type": "code",
     "collapsed": false,
     "input": [
      "dataset2_group = dframe.groupby(['k1', 'k2'])[['dataset2']]"
     ],
     "language": "python",
     "metadata": {},
     "outputs": [],
     "prompt_number": 20
    },
    {
     "cell_type": "code",
     "collapsed": false,
     "input": [
      "dataset2_group.mean()"
     ],
     "language": "python",
     "metadata": {},
     "outputs": [
      {
       "html": [
        "<div style=\"max-height:1000px;max-width:1500px;overflow:auto;\">\n",
        "<table border=\"1\" class=\"dataframe\">\n",
        "  <thead>\n",
        "    <tr style=\"text-align: right;\">\n",
        "      <th></th>\n",
        "      <th></th>\n",
        "      <th>dataset2</th>\n",
        "    </tr>\n",
        "    <tr>\n",
        "      <th>k1</th>\n",
        "      <th>k2</th>\n",
        "      <th></th>\n",
        "    </tr>\n",
        "  </thead>\n",
        "  <tbody>\n",
        "    <tr>\n",
        "      <th rowspan=\"2\" valign=\"top\">X</th>\n",
        "      <th>alpha</th>\n",
        "      <td> 0.618496</td>\n",
        "    </tr>\n",
        "    <tr>\n",
        "      <th>beta</th>\n",
        "      <td> 0.194219</td>\n",
        "    </tr>\n",
        "    <tr>\n",
        "      <th rowspan=\"2\" valign=\"top\">Y</th>\n",
        "      <th>alpha</th>\n",
        "      <td> 1.075756</td>\n",
        "    </tr>\n",
        "    <tr>\n",
        "      <th>beta</th>\n",
        "      <td> 0.856419</td>\n",
        "    </tr>\n",
        "    <tr>\n",
        "      <th>Z</th>\n",
        "      <th>alpha</th>\n",
        "      <td> 0.617901</td>\n",
        "    </tr>\n",
        "  </tbody>\n",
        "</table>\n",
        "</div>"
       ],
       "metadata": {},
       "output_type": "pyout",
       "prompt_number": 22,
       "text": [
        "          dataset2\n",
        "k1 k2             \n",
        "X  alpha  0.618496\n",
        "   beta   0.194219\n",
        "Y  alpha  1.075756\n",
        "   beta   0.856419\n",
        "Z  alpha  0.617901"
       ]
      }
     ],
     "prompt_number": 22
    },
    {
     "cell_type": "code",
     "collapsed": false,
     "input": [
      "dframe.groupby(['k1']).size() # \u5c5e\u3059\u308b\u30c7\u30fc\u30bf\u306e\u500b\u6570\u3092\u78ba\u8a8d"
     ],
     "language": "python",
     "metadata": {},
     "outputs": [
      {
       "metadata": {},
       "output_type": "pyout",
       "prompt_number": 23,
       "text": [
        "k1\n",
        "X     2\n",
        "Y     2\n",
        "Z     1\n",
        "dtype: int64"
       ]
      }
     ],
     "prompt_number": 23
    },
    {
     "cell_type": "code",
     "collapsed": false,
     "input": [
      "for name, group in dframe.groupby('k1'):\n",
      "    print('This is the {} group'.format(name))\n",
      "    print(group)\n",
      "    print('\\n')"
     ],
     "language": "python",
     "metadata": {},
     "outputs": [
      {
       "output_type": "stream",
       "stream": "stdout",
       "text": [
        "This is the X group\n",
        "   dataset1  dataset2 k1     k2\n",
        "0  1.481754  0.618496  X  alpha\n",
        "1  1.155727  0.194219  X   beta\n",
        "\n",
        "\n",
        "This is the Y group\n",
        "   dataset1  dataset2 k1     k2\n",
        "2  0.926681  1.075756  Y  alpha\n",
        "3  1.152604  0.856419  Y   beta\n",
        "\n",
        "\n",
        "This is the Z group\n",
        "   dataset1  dataset2 k1     k2\n",
        "4   0.28914  0.617901  Z  alpha\n",
        "\n",
        "\n"
       ]
      }
     ],
     "prompt_number": 24
    },
    {
     "cell_type": "code",
     "collapsed": false,
     "input": [
      "for (k1, k2), group in dframe.groupby(['k1', 'k2']):\n",
      "    print('key1 =  {} key2 = {} group'.format(k1, k2))\n",
      "    print(group)\n",
      "    print('\\n')"
     ],
     "language": "python",
     "metadata": {},
     "outputs": [
      {
       "output_type": "stream",
       "stream": "stdout",
       "text": [
        "key1 =  X key2 = alpha group\n",
        "   dataset1  dataset2 k1     k2\n",
        "0  1.481754  0.618496  X  alpha\n",
        "\n",
        "\n",
        "key1 =  X key2 = beta group\n",
        "   dataset1  dataset2 k1    k2\n",
        "1  1.155727  0.194219  X  beta\n",
        "\n",
        "\n",
        "key1 =  Y key2 = alpha group\n",
        "   dataset1  dataset2 k1     k2\n",
        "2  0.926681  1.075756  Y  alpha\n",
        "\n",
        "\n",
        "key1 =  Y key2 = beta group\n",
        "   dataset1  dataset2 k1    k2\n",
        "3  1.152604  0.856419  Y  beta\n",
        "\n",
        "\n",
        "key1 =  Z key2 = alpha group\n",
        "   dataset1  dataset2 k1     k2\n",
        "4   0.28914  0.617901  Z  alpha\n",
        "\n",
        "\n"
       ]
      }
     ],
     "prompt_number": 27
    },
    {
     "cell_type": "code",
     "collapsed": false,
     "input": [
      "gr = dframe.groupby('k1')"
     ],
     "language": "python",
     "metadata": {},
     "outputs": [],
     "prompt_number": 28
    },
    {
     "cell_type": "code",
     "collapsed": false,
     "input": [
      "gr.get_group('X') # X\u30b0\u30eb\u30fc\u30d7\u3060\u3051\u304c\u53d6\u5f97\u3067\u304d\u308b"
     ],
     "language": "python",
     "metadata": {},
     "outputs": [
      {
       "html": [
        "<div style=\"max-height:1000px;max-width:1500px;overflow:auto;\">\n",
        "<table border=\"1\" class=\"dataframe\">\n",
        "  <thead>\n",
        "    <tr style=\"text-align: right;\">\n",
        "      <th></th>\n",
        "      <th>dataset1</th>\n",
        "      <th>dataset2</th>\n",
        "      <th>k1</th>\n",
        "      <th>k2</th>\n",
        "    </tr>\n",
        "  </thead>\n",
        "  <tbody>\n",
        "    <tr>\n",
        "      <th>0</th>\n",
        "      <td> 1.481754</td>\n",
        "      <td> 0.618496</td>\n",
        "      <td> X</td>\n",
        "      <td> alpha</td>\n",
        "    </tr>\n",
        "    <tr>\n",
        "      <th>1</th>\n",
        "      <td> 1.155727</td>\n",
        "      <td> 0.194219</td>\n",
        "      <td> X</td>\n",
        "      <td>  beta</td>\n",
        "    </tr>\n",
        "  </tbody>\n",
        "</table>\n",
        "</div>"
       ],
       "metadata": {},
       "output_type": "pyout",
       "prompt_number": 29,
       "text": [
        "   dataset1  dataset2 k1     k2\n",
        "0  1.481754  0.618496  X  alpha\n",
        "1  1.155727  0.194219  X   beta"
       ]
      }
     ],
     "prompt_number": 29
    },
    {
     "cell_type": "code",
     "collapsed": false,
     "input": [
      "group_dict = dict(list(dframe.groupby('k1'))) # \u4e0a\u3068\u540c\u3058\u3053\u3068\u304c\u3067\u304d\u308b"
     ],
     "language": "python",
     "metadata": {},
     "outputs": [],
     "prompt_number": 30
    },
    {
     "cell_type": "code",
     "collapsed": false,
     "input": [
      "group_dict['X']"
     ],
     "language": "python",
     "metadata": {},
     "outputs": [
      {
       "html": [
        "<div style=\"max-height:1000px;max-width:1500px;overflow:auto;\">\n",
        "<table border=\"1\" class=\"dataframe\">\n",
        "  <thead>\n",
        "    <tr style=\"text-align: right;\">\n",
        "      <th></th>\n",
        "      <th>dataset1</th>\n",
        "      <th>dataset2</th>\n",
        "      <th>k1</th>\n",
        "      <th>k2</th>\n",
        "    </tr>\n",
        "  </thead>\n",
        "  <tbody>\n",
        "    <tr>\n",
        "      <th>0</th>\n",
        "      <td> 1.481754</td>\n",
        "      <td> 0.618496</td>\n",
        "      <td> X</td>\n",
        "      <td> alpha</td>\n",
        "    </tr>\n",
        "    <tr>\n",
        "      <th>1</th>\n",
        "      <td> 1.155727</td>\n",
        "      <td> 0.194219</td>\n",
        "      <td> X</td>\n",
        "      <td>  beta</td>\n",
        "    </tr>\n",
        "  </tbody>\n",
        "</table>\n",
        "</div>"
       ],
       "metadata": {},
       "output_type": "pyout",
       "prompt_number": 32,
       "text": [
        "   dataset1  dataset2 k1     k2\n",
        "0  1.481754  0.618496  X  alpha\n",
        "1  1.155727  0.194219  X   beta"
       ]
      }
     ],
     "prompt_number": 32
    },
    {
     "cell_type": "code",
     "collapsed": false,
     "input": [
      "group_dict_axis1 = dict(list(dframe.groupby(dframe.dtypes, axis =1)))"
     ],
     "language": "python",
     "metadata": {},
     "outputs": [],
     "prompt_number": 33
    },
    {
     "cell_type": "code",
     "collapsed": false,
     "input": [
      "group_dict_axis1"
     ],
     "language": "python",
     "metadata": {},
     "outputs": [
      {
       "metadata": {},
       "output_type": "pyout",
       "prompt_number": 34,
       "text": [
        "{dtype('float64'):    dataset1  dataset2\n",
        " 0  1.481754  0.618496\n",
        " 1  1.155727  0.194219\n",
        " 2  0.926681  1.075756\n",
        " 3  1.152604  0.856419\n",
        " 4  0.289140  0.617901, dtype('O'):   k1     k2\n",
        " 0  X  alpha\n",
        " 1  X   beta\n",
        " 2  Y  alpha\n",
        " 3  Y   beta\n",
        " 4  Z  alpha}"
       ]
      }
     ],
     "prompt_number": 34
    },
    {
     "cell_type": "code",
     "collapsed": false,
     "input": [],
     "language": "python",
     "metadata": {},
     "outputs": []
    }
   ],
   "metadata": {}
  }
 ]
}