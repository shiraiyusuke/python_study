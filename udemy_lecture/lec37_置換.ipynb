{
 "metadata": {
  "name": "",
  "signature": "sha256:062b2f74cf1fa8038fc1467f6d710dde85f83e7fa9f053cda33a3445fb694522"
 },
 "nbformat": 3,
 "nbformat_minor": 0,
 "worksheets": [
  {
   "cells": [
    {
     "cell_type": "code",
     "collapsed": false,
     "input": [
      "import numpy as np\n",
      "from pandas import Series"
     ],
     "language": "python",
     "metadata": {},
     "outputs": [],
     "prompt_number": 1
    },
    {
     "cell_type": "code",
     "collapsed": false,
     "input": [
      "ser1 = Series([1, 2, 3, 4, 1, 2, 3, 4])"
     ],
     "language": "python",
     "metadata": {},
     "outputs": [],
     "prompt_number": 2
    },
    {
     "cell_type": "code",
     "collapsed": false,
     "input": [
      "ser1"
     ],
     "language": "python",
     "metadata": {},
     "outputs": [
      {
       "metadata": {},
       "output_type": "pyout",
       "prompt_number": 3,
       "text": [
        "0    1\n",
        "1    2\n",
        "2    3\n",
        "3    4\n",
        "4    1\n",
        "5    2\n",
        "6    3\n",
        "7    4\n",
        "dtype: int64"
       ]
      }
     ],
     "prompt_number": 3
    },
    {
     "cell_type": "code",
     "collapsed": false,
     "input": [
      "ser1.replace(1, np.nan)  # replace(\u4f55\u3092\u3001\u4f55\u306b)"
     ],
     "language": "python",
     "metadata": {},
     "outputs": [
      {
       "metadata": {},
       "output_type": "pyout",
       "prompt_number": 4,
       "text": [
        "0   NaN\n",
        "1     2\n",
        "2     3\n",
        "3     4\n",
        "4   NaN\n",
        "5     2\n",
        "6     3\n",
        "7     4\n",
        "dtype: float64"
       ]
      }
     ],
     "prompt_number": 4
    },
    {
     "cell_type": "code",
     "collapsed": false,
     "input": [
      "ser1"
     ],
     "language": "python",
     "metadata": {},
     "outputs": [
      {
       "metadata": {},
       "output_type": "pyout",
       "prompt_number": 7,
       "text": [
        "0    1\n",
        "1    2\n",
        "2    3\n",
        "3    4\n",
        "4    1\n",
        "5    2\n",
        "6    3\n",
        "7    4\n",
        "dtype: int64"
       ]
      }
     ],
     "prompt_number": 7
    },
    {
     "cell_type": "code",
     "collapsed": false,
     "input": [
      "ser1.replace([1, 4], [100, 400])  #\u30ea\u30b9\u30c8\u3067\u8907\u6570\u306e\u7f6e\u63db\u3092\u4e00\u56de\u3067\u5b9f\u884c\u3002"
     ],
     "language": "python",
     "metadata": {},
     "outputs": [
      {
       "metadata": {},
       "output_type": "pyout",
       "prompt_number": 8,
       "text": [
        "0    100\n",
        "1      2\n",
        "2      3\n",
        "3    400\n",
        "4    100\n",
        "5      2\n",
        "6      3\n",
        "7    400\n",
        "dtype: int64"
       ]
      }
     ],
     "prompt_number": 8
    },
    {
     "cell_type": "code",
     "collapsed": false,
     "input": [
      "ser1.replace({4:np.nan}) #\u8f9e\u66f8\u3067\u3001key\u3092\u306a\u306b\u3092\u3001value\u3092\u4f55\u306b\u3067\u6307\u5b9a\u3082\u53ef\u80fd\u3002"
     ],
     "language": "python",
     "metadata": {},
     "outputs": [
      {
       "metadata": {},
       "output_type": "pyout",
       "prompt_number": 9,
       "text": [
        "0     1\n",
        "1     2\n",
        "2     3\n",
        "3   NaN\n",
        "4     1\n",
        "5     2\n",
        "6     3\n",
        "7   NaN\n",
        "dtype: float64"
       ]
      }
     ],
     "prompt_number": 9
    },
    {
     "cell_type": "code",
     "collapsed": false,
     "input": [],
     "language": "python",
     "metadata": {},
     "outputs": []
    }
   ],
   "metadata": {}
  }
 ]
}