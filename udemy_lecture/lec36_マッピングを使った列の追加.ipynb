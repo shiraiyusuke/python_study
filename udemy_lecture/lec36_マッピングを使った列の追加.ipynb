{
 "metadata": {
  "name": "",
  "signature": "sha256:512a763dcc5e7366973de1bbcd3e6c16b0f37f9110e443466e1f9553c2f2dcf6"
 },
 "nbformat": 3,
 "nbformat_minor": 0,
 "worksheets": [
  {
   "cells": [
    {
     "cell_type": "code",
     "collapsed": false,
     "input": [
      "from pandas import DataFrame"
     ],
     "language": "python",
     "metadata": {},
     "outputs": [],
     "prompt_number": 1
    },
    {
     "cell_type": "code",
     "collapsed": false,
     "input": [
      "dframe = DataFrame({'city' : ['Alma', 'Brian Head', 'Fox Park'],\n",
      "                                     'altitude' : [3158, 3000, 2752]})"
     ],
     "language": "python",
     "metadata": {},
     "outputs": [],
     "prompt_number": 2
    },
    {
     "cell_type": "code",
     "collapsed": false,
     "input": [
      "dframe"
     ],
     "language": "python",
     "metadata": {},
     "outputs": [
      {
       "html": [
        "<div style=\"max-height:1000px;max-width:1500px;overflow:auto;\">\n",
        "<table border=\"1\" class=\"dataframe\">\n",
        "  <thead>\n",
        "    <tr style=\"text-align: right;\">\n",
        "      <th></th>\n",
        "      <th>altitude</th>\n",
        "      <th>city</th>\n",
        "    </tr>\n",
        "  </thead>\n",
        "  <tbody>\n",
        "    <tr>\n",
        "      <th>0</th>\n",
        "      <td> 3158</td>\n",
        "      <td>       Alma</td>\n",
        "    </tr>\n",
        "    <tr>\n",
        "      <th>1</th>\n",
        "      <td> 3000</td>\n",
        "      <td> Brian Head</td>\n",
        "    </tr>\n",
        "    <tr>\n",
        "      <th>2</th>\n",
        "      <td> 2752</td>\n",
        "      <td>   Fox Park</td>\n",
        "    </tr>\n",
        "  </tbody>\n",
        "</table>\n",
        "</div>"
       ],
       "metadata": {},
       "output_type": "pyout",
       "prompt_number": 3,
       "text": [
        "   altitude        city\n",
        "0      3158        Alma\n",
        "1      3000  Brian Head\n",
        "2      2752    Fox Park"
       ]
      }
     ],
     "prompt_number": 3
    },
    {
     "cell_type": "code",
     "collapsed": false,
     "input": [
      "state_map = {'Alma': 'Colorado', 'Brian Head' : 'Utah', 'Fox Park' : 'Wyoming'}"
     ],
     "language": "python",
     "metadata": {},
     "outputs": [],
     "prompt_number": 4
    },
    {
     "cell_type": "code",
     "collapsed": false,
     "input": [
      "state_map"
     ],
     "language": "python",
     "metadata": {},
     "outputs": [
      {
       "metadata": {},
       "output_type": "pyout",
       "prompt_number": 5,
       "text": [
        "{'Alma': 'Colorado', 'Fox Park': 'Wyoming', 'Brian Head': 'Utah'}"
       ]
      }
     ],
     "prompt_number": 5
    },
    {
     "cell_type": "code",
     "collapsed": false,
     "input": [
      "dframe['state'] = dframe['city'].map(state_map)  # dframe\u306estate\u3068\u3044\u3046\u65b0\u3057\u3044\u5217\u3092\u4f5c\u308b\u3002city\u3092\u30ad\u30fc\u306b\u30de\u30c3\u30d4\u30f3\u30b0\u3059\u308b\u30a4\u30e1\u30fc\u30b8\u3002"
     ],
     "language": "python",
     "metadata": {},
     "outputs": [],
     "prompt_number": 6
    },
    {
     "cell_type": "code",
     "collapsed": false,
     "input": [
      "dframe"
     ],
     "language": "python",
     "metadata": {},
     "outputs": [
      {
       "html": [
        "<div style=\"max-height:1000px;max-width:1500px;overflow:auto;\">\n",
        "<table border=\"1\" class=\"dataframe\">\n",
        "  <thead>\n",
        "    <tr style=\"text-align: right;\">\n",
        "      <th></th>\n",
        "      <th>altitude</th>\n",
        "      <th>city</th>\n",
        "      <th>state</th>\n",
        "    </tr>\n",
        "  </thead>\n",
        "  <tbody>\n",
        "    <tr>\n",
        "      <th>0</th>\n",
        "      <td> 3158</td>\n",
        "      <td>       Alma</td>\n",
        "      <td> Colorado</td>\n",
        "    </tr>\n",
        "    <tr>\n",
        "      <th>1</th>\n",
        "      <td> 3000</td>\n",
        "      <td> Brian Head</td>\n",
        "      <td>     Utah</td>\n",
        "    </tr>\n",
        "    <tr>\n",
        "      <th>2</th>\n",
        "      <td> 2752</td>\n",
        "      <td>   Fox Park</td>\n",
        "      <td>  Wyoming</td>\n",
        "    </tr>\n",
        "  </tbody>\n",
        "</table>\n",
        "</div>"
       ],
       "metadata": {},
       "output_type": "pyout",
       "prompt_number": 8,
       "text": [
        "   altitude        city     state\n",
        "0      3158        Alma  Colorado\n",
        "1      3000  Brian Head      Utah\n",
        "2      2752    Fox Park   Wyoming"
       ]
      }
     ],
     "prompt_number": 8
    },
    {
     "cell_type": "code",
     "collapsed": false,
     "input": [
      "dframe['key1'] = [0, 1, 2] #\u3053\u308c\u3067\u3082\u3067\u304d\u308b\u3051\u3069\u3001map\u3092\u4f7f\u3046\u3068\u3001\u7d50\u5408\u30ad\u30fc\u304c\u4f7f\u3048\u308b\u306e\u304c\u826f\u3044\u3002"
     ],
     "language": "python",
     "metadata": {},
     "outputs": [],
     "prompt_number": 9
    },
    {
     "cell_type": "code",
     "collapsed": false,
     "input": [
      "dframe"
     ],
     "language": "python",
     "metadata": {},
     "outputs": [
      {
       "html": [
        "<div style=\"max-height:1000px;max-width:1500px;overflow:auto;\">\n",
        "<table border=\"1\" class=\"dataframe\">\n",
        "  <thead>\n",
        "    <tr style=\"text-align: right;\">\n",
        "      <th></th>\n",
        "      <th>altitude</th>\n",
        "      <th>city</th>\n",
        "      <th>state</th>\n",
        "      <th>key1</th>\n",
        "    </tr>\n",
        "  </thead>\n",
        "  <tbody>\n",
        "    <tr>\n",
        "      <th>0</th>\n",
        "      <td> 3158</td>\n",
        "      <td>       Alma</td>\n",
        "      <td> Colorado</td>\n",
        "      <td> 0</td>\n",
        "    </tr>\n",
        "    <tr>\n",
        "      <th>1</th>\n",
        "      <td> 3000</td>\n",
        "      <td> Brian Head</td>\n",
        "      <td>     Utah</td>\n",
        "      <td> 1</td>\n",
        "    </tr>\n",
        "    <tr>\n",
        "      <th>2</th>\n",
        "      <td> 2752</td>\n",
        "      <td>   Fox Park</td>\n",
        "      <td>  Wyoming</td>\n",
        "      <td> 2</td>\n",
        "    </tr>\n",
        "  </tbody>\n",
        "</table>\n",
        "</div>"
       ],
       "metadata": {},
       "output_type": "pyout",
       "prompt_number": 10,
       "text": [
        "   altitude        city     state  key1\n",
        "0      3158        Alma  Colorado     0\n",
        "1      3000  Brian Head      Utah     1\n",
        "2      2752    Fox Park   Wyoming     2"
       ]
      }
     ],
     "prompt_number": 10
    },
    {
     "cell_type": "code",
     "collapsed": false,
     "input": [],
     "language": "python",
     "metadata": {},
     "outputs": []
    }
   ],
   "metadata": {}
  }
 ]
}