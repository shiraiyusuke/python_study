{
 "metadata": {
  "name": "",
  "signature": "sha256:e6b64c49352eb82bf32b08322fc06920828c5272013d1c050f4c6b3beea0ea3f"
 },
 "nbformat": 3,
 "nbformat_minor": 0,
 "worksheets": [
  {
   "cells": [
    {
     "cell_type": "code",
     "collapsed": false,
     "input": [
      "json_obj = \"\"\"\n",
      "{ \"zoo_animal\": \"Lion\",\n",
      "   \"food\" : [\"Meat\", \"Veggies\", \"Honey\"],\n",
      "   \"fur\" : \"Golden\",\n",
      "   \"clothes\" : \"null\",\n",
      "   \"diet\" : [{\"zoo_animal\": \"Gazelle\", \"food\": \"grass\", \"fur\" : \"Brown\"}]\n",
      "}\n",
      "\"\"\""
     ],
     "language": "python",
     "metadata": {},
     "outputs": [],
     "prompt_number": 1
    },
    {
     "cell_type": "code",
     "collapsed": false,
     "input": [
      "import json"
     ],
     "language": "python",
     "metadata": {},
     "outputs": [],
     "prompt_number": 2
    },
    {
     "cell_type": "code",
     "collapsed": false,
     "input": [
      "data = json.loads(json_obj)"
     ],
     "language": "python",
     "metadata": {},
     "outputs": [],
     "prompt_number": 3
    },
    {
     "cell_type": "code",
     "collapsed": false,
     "input": [
      "data"
     ],
     "language": "python",
     "metadata": {},
     "outputs": [
      {
       "metadata": {},
       "output_type": "pyout",
       "prompt_number": 4,
       "text": [
        "{'food': ['Meat', 'Veggies', 'Honey'],\n",
        " 'clothes': 'null',\n",
        " 'zoo_animal': 'Lion',\n",
        " 'diet': [{'food': 'grass', 'zoo_animal': 'Gazelle', 'fur': 'Brown'}],\n",
        " 'fur': 'Golden'}"
       ]
      }
     ],
     "prompt_number": 4
    },
    {
     "cell_type": "code",
     "collapsed": false,
     "input": [
      "type(data) #\u8f9e\u66f8\u578b\u306b\u306a\u308b"
     ],
     "language": "python",
     "metadata": {},
     "outputs": [
      {
       "metadata": {},
       "output_type": "pyout",
       "prompt_number": 5,
       "text": [
        "dict"
       ]
      }
     ],
     "prompt_number": 5
    },
    {
     "cell_type": "code",
     "collapsed": false,
     "input": [
      "data['diet']"
     ],
     "language": "python",
     "metadata": {},
     "outputs": [
      {
       "metadata": {},
       "output_type": "pyout",
       "prompt_number": 6,
       "text": [
        "[{'food': 'grass', 'zoo_animal': 'Gazelle', 'fur': 'Brown'}]"
       ]
      }
     ],
     "prompt_number": 6
    },
    {
     "cell_type": "code",
     "collapsed": false,
     "input": [
      "json.dumps(data) #json\u306b\u623b\u3059"
     ],
     "language": "python",
     "metadata": {},
     "outputs": [
      {
       "metadata": {},
       "output_type": "pyout",
       "prompt_number": 8,
       "text": [
        "'{\"food\": [\"Meat\", \"Veggies\", \"Honey\"], \"clothes\": \"null\", \"zoo_animal\": \"Lion\", \"diet\": [{\"food\": \"grass\", \"zoo_animal\": \"Gazelle\", \"fur\": \"Brown\"}], \"fur\": \"Golden\"}'"
       ]
      }
     ],
     "prompt_number": 8
    },
    {
     "cell_type": "code",
     "collapsed": false,
     "input": [
      " json.dump(data, open('data.json', 'w')) #json\u3092\u4fdd\u5b58"
     ],
     "language": "python",
     "metadata": {},
     "outputs": [],
     "prompt_number": 9
    },
    {
     "cell_type": "code",
     "collapsed": false,
     "input": [
      "!cat data.json"
     ],
     "language": "python",
     "metadata": {},
     "outputs": [
      {
       "output_type": "stream",
       "stream": "stdout",
       "text": [
        "{\"food\": [\"Meat\", \"Veggies\", \"Honey\"], \"clothes\": \"null\", \"zoo_animal\": \"Lion\", \"diet\": [{\"food\": \"grass\", \"zoo_animal\": \"Gazelle\", \"fur\": \"Brown\"}], \"fur\": \"Golden\"}"
       ]
      }
     ],
     "prompt_number": 10
    },
    {
     "cell_type": "code",
     "collapsed": false,
     "input": [
      "json.load(open('data.json'))"
     ],
     "language": "python",
     "metadata": {},
     "outputs": [
      {
       "metadata": {},
       "output_type": "pyout",
       "prompt_number": 11,
       "text": [
        "{'zoo_animal': 'Lion',\n",
        " 'clothes': 'null',\n",
        " 'food': ['Meat', 'Veggies', 'Honey'],\n",
        " 'diet': [{'zoo_animal': 'Gazelle', 'food': 'grass', 'fur': 'Brown'}],\n",
        " 'fur': 'Golden'}"
       ]
      }
     ],
     "prompt_number": 11
    },
    {
     "cell_type": "code",
     "collapsed": false,
     "input": [],
     "language": "python",
     "metadata": {},
     "outputs": []
    }
   ],
   "metadata": {}
  }
 ]
}