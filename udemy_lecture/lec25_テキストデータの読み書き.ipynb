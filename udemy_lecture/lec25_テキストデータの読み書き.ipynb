{
 "metadata": {
  "name": "",
  "signature": "sha256:293508330ed2798babb9ed97587c3b77e376e31f24658c20a9a314e7bf99cb05"
 },
 "nbformat": 3,
 "nbformat_minor": 0,
 "worksheets": [
  {
   "cells": [
    {
     "cell_type": "code",
     "collapsed": false,
     "input": [
      "import pandas as pd"
     ],
     "language": "python",
     "metadata": {},
     "outputs": [],
     "prompt_number": 1
    },
    {
     "cell_type": "code",
     "collapsed": false,
     "input": [
      "!cat lec25.csv"
     ],
     "language": "python",
     "metadata": {},
     "outputs": [
      {
       "output_type": "stream",
       "stream": "stdout",
       "text": [
        "q,r,s,t,apple\r\n",
        "2,3,4,5,pear\r\n",
        "a,s,d,f,rabbit\r\n",
        "5,2,5,7,dog\r\n"
       ]
      }
     ],
     "prompt_number": 2
    },
    {
     "cell_type": "code",
     "collapsed": false,
     "input": [
      "dframe = pd.read_csv('lec25.csv')"
     ],
     "language": "python",
     "metadata": {},
     "outputs": [],
     "prompt_number": 4
    },
    {
     "cell_type": "code",
     "collapsed": false,
     "input": [
      "dframe"
     ],
     "language": "python",
     "metadata": {},
     "outputs": [
      {
       "html": [
        "<div style=\"max-height:1000px;max-width:1500px;overflow:auto;\">\n",
        "<table border=\"1\" class=\"dataframe\">\n",
        "  <thead>\n",
        "    <tr style=\"text-align: right;\">\n",
        "      <th></th>\n",
        "      <th>q</th>\n",
        "      <th>r</th>\n",
        "      <th>s</th>\n",
        "      <th>t</th>\n",
        "      <th>apple</th>\n",
        "    </tr>\n",
        "  </thead>\n",
        "  <tbody>\n",
        "    <tr>\n",
        "      <th>0</th>\n",
        "      <td> 2</td>\n",
        "      <td> 3</td>\n",
        "      <td> 4</td>\n",
        "      <td> 5</td>\n",
        "      <td>   pear</td>\n",
        "    </tr>\n",
        "    <tr>\n",
        "      <th>1</th>\n",
        "      <td> a</td>\n",
        "      <td> s</td>\n",
        "      <td> d</td>\n",
        "      <td> f</td>\n",
        "      <td> rabbit</td>\n",
        "    </tr>\n",
        "    <tr>\n",
        "      <th>2</th>\n",
        "      <td> 5</td>\n",
        "      <td> 2</td>\n",
        "      <td> 5</td>\n",
        "      <td> 7</td>\n",
        "      <td>    dog</td>\n",
        "    </tr>\n",
        "  </tbody>\n",
        "</table>\n",
        "</div>"
       ],
       "metadata": {},
       "output_type": "pyout",
       "prompt_number": 5,
       "text": [
        "   q  r  s  t   apple\n",
        "0  2  3  4  5    pear\n",
        "1  a  s  d  f  rabbit\n",
        "2  5  2  5  7     dog"
       ]
      }
     ],
     "prompt_number": 5
    },
    {
     "cell_type": "code",
     "collapsed": false,
     "input": [
      "dframe = pd.read_csv('lec25.csv', header=None)"
     ],
     "language": "python",
     "metadata": {},
     "outputs": [],
     "prompt_number": 6
    },
    {
     "cell_type": "code",
     "collapsed": false,
     "input": [
      "dframe"
     ],
     "language": "python",
     "metadata": {},
     "outputs": [
      {
       "html": [
        "<div style=\"max-height:1000px;max-width:1500px;overflow:auto;\">\n",
        "<table border=\"1\" class=\"dataframe\">\n",
        "  <thead>\n",
        "    <tr style=\"text-align: right;\">\n",
        "      <th></th>\n",
        "      <th>0</th>\n",
        "      <th>1</th>\n",
        "      <th>2</th>\n",
        "      <th>3</th>\n",
        "      <th>4</th>\n",
        "    </tr>\n",
        "  </thead>\n",
        "  <tbody>\n",
        "    <tr>\n",
        "      <th>0</th>\n",
        "      <td> q</td>\n",
        "      <td> r</td>\n",
        "      <td> s</td>\n",
        "      <td> t</td>\n",
        "      <td>  apple</td>\n",
        "    </tr>\n",
        "    <tr>\n",
        "      <th>1</th>\n",
        "      <td> 2</td>\n",
        "      <td> 3</td>\n",
        "      <td> 4</td>\n",
        "      <td> 5</td>\n",
        "      <td>   pear</td>\n",
        "    </tr>\n",
        "    <tr>\n",
        "      <th>2</th>\n",
        "      <td> a</td>\n",
        "      <td> s</td>\n",
        "      <td> d</td>\n",
        "      <td> f</td>\n",
        "      <td> rabbit</td>\n",
        "    </tr>\n",
        "    <tr>\n",
        "      <th>3</th>\n",
        "      <td> 5</td>\n",
        "      <td> 2</td>\n",
        "      <td> 5</td>\n",
        "      <td> 7</td>\n",
        "      <td>    dog</td>\n",
        "    </tr>\n",
        "  </tbody>\n",
        "</table>\n",
        "</div>"
       ],
       "metadata": {},
       "output_type": "pyout",
       "prompt_number": 7,
       "text": [
        "   0  1  2  3       4\n",
        "0  q  r  s  t   apple\n",
        "1  2  3  4  5    pear\n",
        "2  a  s  d  f  rabbit\n",
        "3  5  2  5  7     dog"
       ]
      }
     ],
     "prompt_number": 7
    },
    {
     "cell_type": "code",
     "collapsed": false,
     "input": [
      "dframe = pd.read_table('lec25.csv', sep = ',', header=None) #csv\u4ee5\u5916\u3082\u8aad\u3081\u308b"
     ],
     "language": "python",
     "metadata": {},
     "outputs": [],
     "prompt_number": 8
    },
    {
     "cell_type": "code",
     "collapsed": false,
     "input": [
      "dframe"
     ],
     "language": "python",
     "metadata": {},
     "outputs": [
      {
       "html": [
        "<div style=\"max-height:1000px;max-width:1500px;overflow:auto;\">\n",
        "<table border=\"1\" class=\"dataframe\">\n",
        "  <thead>\n",
        "    <tr style=\"text-align: right;\">\n",
        "      <th></th>\n",
        "      <th>0</th>\n",
        "      <th>1</th>\n",
        "      <th>2</th>\n",
        "      <th>3</th>\n",
        "      <th>4</th>\n",
        "    </tr>\n",
        "  </thead>\n",
        "  <tbody>\n",
        "    <tr>\n",
        "      <th>0</th>\n",
        "      <td> q</td>\n",
        "      <td> r</td>\n",
        "      <td> s</td>\n",
        "      <td> t</td>\n",
        "      <td>  apple</td>\n",
        "    </tr>\n",
        "    <tr>\n",
        "      <th>1</th>\n",
        "      <td> 2</td>\n",
        "      <td> 3</td>\n",
        "      <td> 4</td>\n",
        "      <td> 5</td>\n",
        "      <td>   pear</td>\n",
        "    </tr>\n",
        "    <tr>\n",
        "      <th>2</th>\n",
        "      <td> a</td>\n",
        "      <td> s</td>\n",
        "      <td> d</td>\n",
        "      <td> f</td>\n",
        "      <td> rabbit</td>\n",
        "    </tr>\n",
        "    <tr>\n",
        "      <th>3</th>\n",
        "      <td> 5</td>\n",
        "      <td> 2</td>\n",
        "      <td> 5</td>\n",
        "      <td> 7</td>\n",
        "      <td>    dog</td>\n",
        "    </tr>\n",
        "  </tbody>\n",
        "</table>\n",
        "</div>"
       ],
       "metadata": {},
       "output_type": "pyout",
       "prompt_number": 9,
       "text": [
        "   0  1  2  3       4\n",
        "0  q  r  s  t   apple\n",
        "1  2  3  4  5    pear\n",
        "2  a  s  d  f  rabbit\n",
        "3  5  2  5  7     dog"
       ]
      }
     ],
     "prompt_number": 9
    },
    {
     "cell_type": "code",
     "collapsed": false,
     "input": [
      "pd.read_csv('lec25.csv', header=None, nrows=2) # nrows\u306f\u8aad\u307f\u8fbc\u3080\u884c\u6570\u3092\u6307\u5b9a"
     ],
     "language": "python",
     "metadata": {},
     "outputs": [
      {
       "html": [
        "<div style=\"max-height:1000px;max-width:1500px;overflow:auto;\">\n",
        "<table border=\"1\" class=\"dataframe\">\n",
        "  <thead>\n",
        "    <tr style=\"text-align: right;\">\n",
        "      <th></th>\n",
        "      <th>0</th>\n",
        "      <th>1</th>\n",
        "      <th>2</th>\n",
        "      <th>3</th>\n",
        "      <th>4</th>\n",
        "    </tr>\n",
        "  </thead>\n",
        "  <tbody>\n",
        "    <tr>\n",
        "      <th>0</th>\n",
        "      <td> q</td>\n",
        "      <td> r</td>\n",
        "      <td> s</td>\n",
        "      <td> t</td>\n",
        "      <td> apple</td>\n",
        "    </tr>\n",
        "    <tr>\n",
        "      <th>1</th>\n",
        "      <td> 2</td>\n",
        "      <td> 3</td>\n",
        "      <td> 4</td>\n",
        "      <td> 5</td>\n",
        "      <td>  pear</td>\n",
        "    </tr>\n",
        "  </tbody>\n",
        "</table>\n",
        "</div>"
       ],
       "metadata": {},
       "output_type": "pyout",
       "prompt_number": 11,
       "text": [
        "   0  1  2  3      4\n",
        "0  q  r  s  t  apple\n",
        "1  2  3  4  5   pear"
       ]
      }
     ],
     "prompt_number": 11
    },
    {
     "cell_type": "code",
     "collapsed": false,
     "input": [
      "dframe"
     ],
     "language": "python",
     "metadata": {},
     "outputs": [
      {
       "html": [
        "<div style=\"max-height:1000px;max-width:1500px;overflow:auto;\">\n",
        "<table border=\"1\" class=\"dataframe\">\n",
        "  <thead>\n",
        "    <tr style=\"text-align: right;\">\n",
        "      <th></th>\n",
        "      <th>0</th>\n",
        "      <th>1</th>\n",
        "      <th>2</th>\n",
        "      <th>3</th>\n",
        "      <th>4</th>\n",
        "    </tr>\n",
        "  </thead>\n",
        "  <tbody>\n",
        "    <tr>\n",
        "      <th>0</th>\n",
        "      <td> q</td>\n",
        "      <td> r</td>\n",
        "      <td> s</td>\n",
        "      <td> t</td>\n",
        "      <td>  apple</td>\n",
        "    </tr>\n",
        "    <tr>\n",
        "      <th>1</th>\n",
        "      <td> 2</td>\n",
        "      <td> 3</td>\n",
        "      <td> 4</td>\n",
        "      <td> 5</td>\n",
        "      <td>   pear</td>\n",
        "    </tr>\n",
        "    <tr>\n",
        "      <th>2</th>\n",
        "      <td> a</td>\n",
        "      <td> s</td>\n",
        "      <td> d</td>\n",
        "      <td> f</td>\n",
        "      <td> rabbit</td>\n",
        "    </tr>\n",
        "    <tr>\n",
        "      <th>3</th>\n",
        "      <td> 5</td>\n",
        "      <td> 2</td>\n",
        "      <td> 5</td>\n",
        "      <td> 7</td>\n",
        "      <td>    dog</td>\n",
        "    </tr>\n",
        "  </tbody>\n",
        "</table>\n",
        "</div>"
       ],
       "metadata": {},
       "output_type": "pyout",
       "prompt_number": 13,
       "text": [
        "   0  1  2  3       4\n",
        "0  q  r  s  t   apple\n",
        "1  2  3  4  5    pear\n",
        "2  a  s  d  f  rabbit\n",
        "3  5  2  5  7     dog"
       ]
      }
     ],
     "prompt_number": 13
    },
    {
     "cell_type": "code",
     "collapsed": false,
     "input": [
      "dframe.to_csv('mytextdata_out.csv') # \u51fa\u529b"
     ],
     "language": "python",
     "metadata": {},
     "outputs": [],
     "prompt_number": 14
    },
    {
     "cell_type": "code",
     "collapsed": false,
     "input": [
      "!cat mytextdata_out.csv"
     ],
     "language": "python",
     "metadata": {},
     "outputs": [
      {
       "output_type": "stream",
       "stream": "stdout",
       "text": [
        ",0,1,2,3,4\r\n",
        "0,q,r,s,t,apple\r\n",
        "1,2,3,4,5,pear\r\n",
        "2,a,s,d,f,rabbit\r\n",
        "3,5,2,5,7,dog\r\n"
       ]
      }
     ],
     "prompt_number": 16
    },
    {
     "cell_type": "code",
     "collapsed": false,
     "input": [
      "import sys\n",
      "dframe.to_csv(sys.stdout) # \u6a19\u6e96\u51fa\u529b"
     ],
     "language": "python",
     "metadata": {},
     "outputs": [
      {
       "output_type": "stream",
       "stream": "stdout",
       "text": [
        ",0,1,2,3,4\n",
        "0,q,r,s,t,apple\n",
        "1,2,3,4,5,pear\n",
        "2,a,s,d,f,rabbit\n",
        "3,5,2,5,7,dog\n"
       ]
      }
     ],
     "prompt_number": 17
    },
    {
     "cell_type": "code",
     "collapsed": false,
     "input": [
      "dframe.to_csv(sys.stdout, sep='_')"
     ],
     "language": "python",
     "metadata": {},
     "outputs": [
      {
       "output_type": "stream",
       "stream": "stdout",
       "text": [
        "_0_1_2_3_4\n",
        "0_q_r_s_t_apple\n",
        "1_2_3_4_5_pear\n",
        "2_a_s_d_f_rabbit\n",
        "3_5_2_5_7_dog\n"
       ]
      }
     ],
     "prompt_number": 18
    },
    {
     "cell_type": "code",
     "collapsed": false,
     "input": [
      "dframe.to_csv(sys.stdout, sep='\\t')"
     ],
     "language": "python",
     "metadata": {},
     "outputs": [
      {
       "output_type": "stream",
       "stream": "stdout",
       "text": [
        "\t0\t1\t2\t3\t4\n",
        "0\tq\tr\ts\tt\tapple\n",
        "1\t2\t3\t4\t5\tpear\n",
        "2\ta\ts\td\tf\trabbit\n",
        "3\t5\t2\t5\t7\tdog\n"
       ]
      }
     ],
     "prompt_number": 21
    },
    {
     "cell_type": "code",
     "collapsed": false,
     "input": [
      "dframe.to_csv(sys.stdout, columns=[0, 1, 2]) #\u884c\u3092\u7d5e\u308b"
     ],
     "language": "python",
     "metadata": {},
     "outputs": [
      {
       "output_type": "stream",
       "stream": "stdout",
       "text": [
        ",0,1,2\n",
        "0,q,r,s\n",
        "1,2,3,4\n",
        "2,a,s,d\n",
        "3,5,2,5\n"
       ]
      }
     ],
     "prompt_number": 22
    },
    {
     "cell_type": "code",
     "collapsed": false,
     "input": [],
     "language": "python",
     "metadata": {},
     "outputs": []
    }
   ],
   "metadata": {}
  }
 ]
}