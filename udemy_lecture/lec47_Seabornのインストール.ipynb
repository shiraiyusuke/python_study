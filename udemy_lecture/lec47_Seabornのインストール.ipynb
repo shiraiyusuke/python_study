{
 "metadata": {
  "name": "",
  "signature": "sha256:d2b9b18cbaff21a85b93aea77496e7884827adf8c12c222d8a8172eaa4e4f2ef"
 },
 "nbformat": 3,
 "nbformat_minor": 0,
 "worksheets": [
  {
   "cells": [
    {
     "cell_type": "code",
     "collapsed": false,
     "input": [
      "import seaborn"
     ],
     "language": "python",
     "metadata": {},
     "outputs": [],
     "prompt_number": 1
    },
    {
     "cell_type": "markdown",
     "metadata": {},
     "source": [
      "## pip install seaborn\u3000\u3067\u53d6\u308c\u308b\u3002 anaconda\u306a\u3089\u6700\u521d\u304b\u3089\u5165\u3063\u3066\u308b\u3088\u3002"
     ]
    }
   ],
   "metadata": {}
  }
 ]
}