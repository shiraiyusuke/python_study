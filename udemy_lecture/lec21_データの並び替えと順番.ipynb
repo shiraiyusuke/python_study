{
 "metadata": {
  "name": "",
  "signature": "sha256:01d88795990e4e4fad16a2c6498ec6f253e51f53ec7179236a248eb114757bea"
 },
 "nbformat": 3,
 "nbformat_minor": 0,
 "worksheets": [
  {
   "cells": [
    {
     "cell_type": "code",
     "collapsed": false,
     "input": [
      "import numpy as np\n",
      "import pandas as pd\n",
      "from pandas import Series, DataFrame"
     ],
     "language": "python",
     "metadata": {},
     "outputs": [],
     "prompt_number": 1
    },
    {
     "cell_type": "code",
     "collapsed": false,
     "input": [
      "ser1 = Series(range(3), index = ['C', 'A', 'B'])"
     ],
     "language": "python",
     "metadata": {},
     "outputs": [],
     "prompt_number": 2
    },
    {
     "cell_type": "code",
     "collapsed": false,
     "input": [
      "ser1"
     ],
     "language": "python",
     "metadata": {},
     "outputs": [
      {
       "metadata": {},
       "output_type": "pyout",
       "prompt_number": 3,
       "text": [
        "C    0\n",
        "A    1\n",
        "B    2\n",
        "dtype: int64"
       ]
      }
     ],
     "prompt_number": 3
    },
    {
     "cell_type": "code",
     "collapsed": false,
     "input": [
      "ser1.sort_index()"
     ],
     "language": "python",
     "metadata": {},
     "outputs": [
      {
       "metadata": {},
       "output_type": "pyout",
       "prompt_number": 5,
       "text": [
        "A    1\n",
        "B    2\n",
        "C    0\n",
        "dtype: int64"
       ]
      }
     ],
     "prompt_number": 5
    },
    {
     "cell_type": "code",
     "collapsed": false,
     "input": [
      "ser1"
     ],
     "language": "python",
     "metadata": {},
     "outputs": [
      {
       "metadata": {},
       "output_type": "pyout",
       "prompt_number": 6,
       "text": [
        "C    0\n",
        "A    1\n",
        "B    2\n",
        "dtype: int64"
       ]
      }
     ],
     "prompt_number": 6
    },
    {
     "cell_type": "code",
     "collapsed": false,
     "input": [
      "ser1.order() # \u5024\u3067\u30bd\u30fc\u30c8"
     ],
     "language": "python",
     "metadata": {},
     "outputs": [
      {
       "metadata": {},
       "output_type": "pyout",
       "prompt_number": 8,
       "text": [
        "C    0\n",
        "A    1\n",
        "B    2\n",
        "dtype: int64"
       ]
      }
     ],
     "prompt_number": 8
    },
    {
     "cell_type": "code",
     "collapsed": false,
     "input": [
      "from numpy.random import randn"
     ],
     "language": "python",
     "metadata": {},
     "outputs": [],
     "prompt_number": 9
    },
    {
     "cell_type": "code",
     "collapsed": false,
     "input": [
      "ser2 = Series(randn(10))"
     ],
     "language": "python",
     "metadata": {},
     "outputs": [],
     "prompt_number": 10
    },
    {
     "cell_type": "code",
     "collapsed": false,
     "input": [
      "ser2"
     ],
     "language": "python",
     "metadata": {},
     "outputs": [
      {
       "metadata": {},
       "output_type": "pyout",
       "prompt_number": 11,
       "text": [
        "0   -0.357673\n",
        "1   -0.389162\n",
        "2    2.258806\n",
        "3    1.093876\n",
        "4   -0.671301\n",
        "5   -0.386152\n",
        "6   -1.141017\n",
        "7   -0.970713\n",
        "8    1.353242\n",
        "9   -0.803432\n",
        "dtype: float64"
       ]
      }
     ],
     "prompt_number": 11
    },
    {
     "cell_type": "code",
     "collapsed": false,
     "input": [
      "ser2.order()"
     ],
     "language": "python",
     "metadata": {},
     "outputs": [
      {
       "metadata": {},
       "output_type": "pyout",
       "prompt_number": 12,
       "text": [
        "6   -1.141017\n",
        "7   -0.970713\n",
        "9   -0.803432\n",
        "4   -0.671301\n",
        "1   -0.389162\n",
        "5   -0.386152\n",
        "0   -0.357673\n",
        "3    1.093876\n",
        "8    1.353242\n",
        "2    2.258806\n",
        "dtype: float64"
       ]
      }
     ],
     "prompt_number": 12
    },
    {
     "cell_type": "code",
     "collapsed": false,
     "input": [
      "ser2.rank() # \u4e26\u3073\u66ff\u3048\u305f\u6642\u306e\u9806\u756a\u3092\u8abf\u3079\u3089\u308c\u308b"
     ],
     "language": "python",
     "metadata": {},
     "outputs": [
      {
       "metadata": {},
       "output_type": "pyout",
       "prompt_number": 13,
       "text": [
        "0     7\n",
        "1     5\n",
        "2    10\n",
        "3     8\n",
        "4     4\n",
        "5     6\n",
        "6     1\n",
        "7     2\n",
        "8     9\n",
        "9     3\n",
        "dtype: float64"
       ]
      }
     ],
     "prompt_number": 13
    },
    {
     "cell_type": "code",
     "collapsed": false,
     "input": [
      "ser2.sort()  # sort\u306f\u3001ser2\u81ea\u4f53\u3092\u4e26\u3073\u66ff\u3048\u308b\u3002 order\u306f\u4e26\u3073\u66ff\u3048\u305f\u65b0\u305f\u306aSeries\u3092\u8fd4\u3059"
     ],
     "language": "python",
     "metadata": {},
     "outputs": [],
     "prompt_number": 14
    },
    {
     "cell_type": "code",
     "collapsed": false,
     "input": [
      "ser2"
     ],
     "language": "python",
     "metadata": {},
     "outputs": [
      {
       "metadata": {},
       "output_type": "pyout",
       "prompt_number": 15,
       "text": [
        "6   -1.141017\n",
        "7   -0.970713\n",
        "9   -0.803432\n",
        "4   -0.671301\n",
        "1   -0.389162\n",
        "5   -0.386152\n",
        "0   -0.357673\n",
        "3    1.093876\n",
        "8    1.353242\n",
        "2    2.258806\n",
        "dtype: float64"
       ]
      }
     ],
     "prompt_number": 15
    },
    {
     "cell_type": "code",
     "collapsed": false,
     "input": [
      "ser2.rank()"
     ],
     "language": "python",
     "metadata": {},
     "outputs": [
      {
       "metadata": {},
       "output_type": "pyout",
       "prompt_number": 16,
       "text": [
        "6     1\n",
        "7     2\n",
        "9     3\n",
        "4     4\n",
        "1     5\n",
        "5     6\n",
        "0     7\n",
        "3     8\n",
        "8     9\n",
        "2    10\n",
        "dtype: float64"
       ]
      }
     ],
     "prompt_number": 16
    },
    {
     "cell_type": "code",
     "collapsed": false,
     "input": [],
     "language": "python",
     "metadata": {},
     "outputs": []
    }
   ],
   "metadata": {}
  }
 ]
}