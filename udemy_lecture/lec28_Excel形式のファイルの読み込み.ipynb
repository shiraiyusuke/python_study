{
 "metadata": {
  "name": "",
  "signature": "sha256:6d17628ae314c7b2663dd466c2f5600e4b2e159daf305348713b1c1fe4de24f2"
 },
 "nbformat": 3,
 "nbformat_minor": 0,
 "worksheets": [
  {
   "cells": [
    {
     "cell_type": "code",
     "collapsed": false,
     "input": [
      "import pandas as pd"
     ],
     "language": "python",
     "metadata": {},
     "outputs": [],
     "prompt_number": 1
    },
    {
     "cell_type": "markdown",
     "metadata": {},
     "source": [
      "<img src=\"Lec_28_test.xlsx\">"
     ]
    },
    {
     "cell_type": "code",
     "collapsed": false,
     "input": [
      "dframe = pd.read_excel('Lec_28_test.xlsx', sheetname='Sheet1')"
     ],
     "language": "python",
     "metadata": {},
     "outputs": [],
     "prompt_number": 2
    },
    {
     "cell_type": "code",
     "collapsed": false,
     "input": [
      "dframe"
     ],
     "language": "python",
     "metadata": {},
     "outputs": [
      {
       "html": [
        "<div style=\"max-height:1000px;max-width:1500px;overflow:auto;\">\n",
        "<table border=\"1\" class=\"dataframe\">\n",
        "  <thead>\n",
        "    <tr style=\"text-align: right;\">\n",
        "      <th></th>\n",
        "      <th>This is a test</th>\n",
        "      <th>Unnamed: 1</th>\n",
        "      <th>Unnamed: 2</th>\n",
        "    </tr>\n",
        "  </thead>\n",
        "  <tbody>\n",
        "    <tr>\n",
        "      <th>0</th>\n",
        "      <td>  23</td>\n",
        "      <td> 6678</td>\n",
        "      <td>  456</td>\n",
        "    </tr>\n",
        "    <tr>\n",
        "      <th>1</th>\n",
        "      <td> 234</td>\n",
        "      <td>  678</td>\n",
        "      <td>  456</td>\n",
        "    </tr>\n",
        "    <tr>\n",
        "      <th>2</th>\n",
        "      <td> 234</td>\n",
        "      <td>    7</td>\n",
        "      <td>  345</td>\n",
        "    </tr>\n",
        "    <tr>\n",
        "      <th>3</th>\n",
        "      <td>  34</td>\n",
        "      <td>   56</td>\n",
        "      <td>  234</td>\n",
        "    </tr>\n",
        "    <tr>\n",
        "      <th>4</th>\n",
        "      <td>   5</td>\n",
        "      <td>  456</td>\n",
        "      <td> 4365</td>\n",
        "    </tr>\n",
        "  </tbody>\n",
        "</table>\n",
        "</div>"
       ],
       "metadata": {},
       "output_type": "pyout",
       "prompt_number": 3,
       "text": [
        "   This is a test  Unnamed: 1  Unnamed: 2\n",
        "0              23        6678         456\n",
        "1             234         678         456\n",
        "2             234           7         345\n",
        "3              34          56         234\n",
        "4               5         456        4365"
       ]
      }
     ],
     "prompt_number": 3
    },
    {
     "cell_type": "code",
     "collapsed": false,
     "input": [],
     "language": "python",
     "metadata": {},
     "outputs": []
    }
   ],
   "metadata": {}
  }
 ]
}