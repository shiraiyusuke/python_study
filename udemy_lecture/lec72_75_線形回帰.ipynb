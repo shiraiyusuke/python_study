{
 "metadata": {
  "name": "",
  "signature": "sha256:7f6ea8f1403b8eaed22a269e70a3baa900af674e405c5d07b1465f39a6b7a610"
 },
 "nbformat": 3,
 "nbformat_minor": 0,
 "worksheets": [
  {
   "cells": [
    {
     "cell_type": "code",
     "collapsed": false,
     "input": [
      "import numpy as np\n",
      "import pandas as pd\n",
      "from pandas import Series, DataFrame\n",
      "\n",
      "import matplotlib.pyplot as plt\n",
      "import seaborn as sns\n",
      "sns.set_style('whitegrid')\n",
      "%matplotlib inline"
     ],
     "language": "python",
     "metadata": {},
     "outputs": [],
     "prompt_number": 26
    },
    {
     "cell_type": "code",
     "collapsed": false,
     "input": [
      "from sklearn.datasets import load_boston"
     ],
     "language": "python",
     "metadata": {},
     "outputs": [],
     "prompt_number": 3
    },
    {
     "cell_type": "code",
     "collapsed": false,
     "input": [
      "boston = load_boston() # \u30dc\u30b9\u30c8\u30f3\u306e\u4f4f\u5b85\u4fa1\u683c\u30c7\u30fc\u30bf"
     ],
     "language": "python",
     "metadata": {},
     "outputs": [],
     "prompt_number": 4
    },
    {
     "cell_type": "code",
     "collapsed": false,
     "input": [
      "print(boston.DESCR)"
     ],
     "language": "python",
     "metadata": {},
     "outputs": [
      {
       "output_type": "stream",
       "stream": "stdout",
       "text": [
        "Boston House Prices dataset\n",
        "\n",
        "Notes\n",
        "------\n",
        "Data Set Characteristics:  \n",
        "\n",
        "    :Number of Instances: 506 \n",
        "\n",
        "    :Number of Attributes: 13 numeric/categorical predictive\n",
        "    \n",
        "    :Median Value (attribute 14) is usually the target\n",
        "\n",
        "    :Attribute Information (in order):\n",
        "        - CRIM     per capita crime rate by town\n",
        "        - ZN       proportion of residential land zoned for lots over 25,000 sq.ft.\n",
        "        - INDUS    proportion of non-retail business acres per town\n",
        "        - CHAS     Charles River dummy variable (= 1 if tract bounds river; 0 otherwise)\n",
        "        - NOX      nitric oxides concentration (parts per 10 million)\n",
        "        - RM       average number of rooms per dwelling\n",
        "        - AGE      proportion of owner-occupied units built prior to 1940\n",
        "        - DIS      weighted distances to five Boston employment centres\n",
        "        - RAD      index of accessibility to radial highways\n",
        "        - TAX      full-value property-tax rate per $10,000\n",
        "        - PTRATIO  pupil-teacher ratio by town\n",
        "        - B        1000(Bk - 0.63)^2 where Bk is the proportion of blacks by town\n",
        "        - LSTAT    % lower status of the population\n",
        "        - MEDV     Median value of owner-occupied homes in $1000's\n",
        "\n",
        "    :Missing Attribute Values: None\n",
        "\n",
        "    :Creator: Harrison, D. and Rubinfeld, D.L.\n",
        "\n",
        "This is a copy of UCI ML housing dataset.\n",
        "http://archive.ics.uci.edu/ml/datasets/Housing\n",
        "\n",
        "\n",
        "This dataset was taken from the StatLib library which is maintained at Carnegie Mellon University.\n",
        "\n",
        "The Boston house-price data of Harrison, D. and Rubinfeld, D.L. 'Hedonic\n",
        "prices and the demand for clean air', J. Environ. Economics & Management,\n",
        "vol.5, 81-102, 1978.   Used in Belsley, Kuh & Welsch, 'Regression diagnostics\n",
        "...', Wiley, 1980.   N.B. Various transformations are used in the table on\n",
        "pages 244-261 of the latter.\n",
        "\n",
        "The Boston house-price data has been used in many machine learning papers that address regression\n",
        "problems.   \n",
        "     \n",
        "**References**\n",
        "\n",
        "   - Belsley, Kuh & Welsch, 'Regression diagnostics: Identifying Influential Data and Sources of Collinearity', Wiley, 1980. 244-261.\n",
        "   - Quinlan,R. (1993). Combining Instance-Based and Model-Based Learning. In Proceedings on the Tenth International Conference of Machine Learning, 236-243, University of Massachusetts, Amherst. Morgan Kaufmann.\n",
        "   - many more! (see http://archive.ics.uci.edu/ml/datasets/Housing)\n",
        "\n"
       ]
      }
     ],
     "prompt_number": 7
    },
    {
     "cell_type": "code",
     "collapsed": false,
     "input": [
      "# \u307e\u305a\u306f\u30c7\u30fc\u30bf\u306e\u6982\u8981\u8abf\u67fb\n",
      "# \u4fa1\u683c\u306e\u30d2\u30b9\u30c8\u30b0\u30e9\u30e0\n",
      "plt.hist(boston.target, bins = 50)\n",
      "plt.xlabel('Price($1,000)')\n",
      "plt.ylabel('Number of house')"
     ],
     "language": "python",
     "metadata": {},
     "outputs": [
      {
       "metadata": {},
       "output_type": "pyout",
       "prompt_number": 9,
       "text": [
        "<matplotlib.text.Text at 0x109e72550>"
       ]
      },
      {
       "metadata": {},
       "output_type": "display_data",
       "png": "[encoded data removed]",
       "text": [
        "<matplotlib.figure.Figure at 0x109d2e3c8>"
       ]
      }
     ],
     "prompt_number": 9
    },
    {
     "cell_type": "code",
     "collapsed": false,
     "input": [
      "plt.scatter(boston.data[:, 5], boston.target) # \u6a2a\u8ef8:boston.data[:, 5]\uff08\u90e8\u5c4b\u306e\u6570\uff09 \u7e26\u8ef8:boston.target(\u4fa1\u683c)\n",
      "plt.xlabel('Number of rooms')\n",
      "plt.ylabel('Price($1,000)')"
     ],
     "language": "python",
     "metadata": {},
     "outputs": [
      {
       "metadata": {},
       "output_type": "pyout",
       "prompt_number": 11,
       "text": [
        "<matplotlib.text.Text at 0x10a86c588>"
       ]
      },
      {
       "metadata": {},
       "output_type": "display_data",
       "png": "[encoded data removed]",
       "text": [
        "<matplotlib.figure.Figure at 0x10a869940>"
       ]
      }
     ],
     "prompt_number": 11
    },
    {
     "cell_type": "code",
     "collapsed": false,
     "input": [
      "# DataFrame\u306b\u5909\u63db\n",
      "boston_df = DataFrame(boston.data)\n",
      "boston_df.columns = boston.feature_names"
     ],
     "language": "python",
     "metadata": {},
     "outputs": [],
     "prompt_number": 12
    },
    {
     "cell_type": "code",
     "collapsed": true,
     "input": [
      "boston_df.head()"
     ],
     "language": "python",
     "metadata": {},
     "outputs": [
      {
       "html": [
        "<div style=\"max-height:1000px;max-width:1500px;overflow:auto;\">\n",
        "<table border=\"1\" class=\"dataframe\">\n",
        "  <thead>\n",
        "    <tr style=\"text-align: right;\">\n",
        "      <th></th>\n",
        "      <th>CRIM</th>\n",
        "      <th>ZN</th>\n",
        "      <th>INDUS</th>\n",
        "      <th>CHAS</th>\n",
        "      <th>NOX</th>\n",
        "      <th>RM</th>\n",
        "      <th>AGE</th>\n",
        "      <th>DIS</th>\n",
        "      <th>RAD</th>\n",
        "      <th>TAX</th>\n",
        "      <th>PTRATIO</th>\n",
        "      <th>B</th>\n",
        "      <th>LSTAT</th>\n",
        "    </tr>\n",
        "  </thead>\n",
        "  <tbody>\n",
        "    <tr>\n",
        "      <th>0</th>\n",
        "      <td> 0.00632</td>\n",
        "      <td> 18</td>\n",
        "      <td> 2.31</td>\n",
        "      <td> 0</td>\n",
        "      <td> 0.538</td>\n",
        "      <td> 6.575</td>\n",
        "      <td> 65.2</td>\n",
        "      <td> 4.0900</td>\n",
        "      <td> 1</td>\n",
        "      <td> 296</td>\n",
        "      <td> 15.3</td>\n",
        "      <td> 396.90</td>\n",
        "      <td> 4.98</td>\n",
        "    </tr>\n",
        "    <tr>\n",
        "      <th>1</th>\n",
        "      <td> 0.02731</td>\n",
        "      <td>  0</td>\n",
        "      <td> 7.07</td>\n",
        "      <td> 0</td>\n",
        "      <td> 0.469</td>\n",
        "      <td> 6.421</td>\n",
        "      <td> 78.9</td>\n",
        "      <td> 4.9671</td>\n",
        "      <td> 2</td>\n",
        "      <td> 242</td>\n",
        "      <td> 17.8</td>\n",
        "      <td> 396.90</td>\n",
        "      <td> 9.14</td>\n",
        "    </tr>\n",
        "    <tr>\n",
        "      <th>2</th>\n",
        "      <td> 0.02729</td>\n",
        "      <td>  0</td>\n",
        "      <td> 7.07</td>\n",
        "      <td> 0</td>\n",
        "      <td> 0.469</td>\n",
        "      <td> 7.185</td>\n",
        "      <td> 61.1</td>\n",
        "      <td> 4.9671</td>\n",
        "      <td> 2</td>\n",
        "      <td> 242</td>\n",
        "      <td> 17.8</td>\n",
        "      <td> 392.83</td>\n",
        "      <td> 4.03</td>\n",
        "    </tr>\n",
        "    <tr>\n",
        "      <th>3</th>\n",
        "      <td> 0.03237</td>\n",
        "      <td>  0</td>\n",
        "      <td> 2.18</td>\n",
        "      <td> 0</td>\n",
        "      <td> 0.458</td>\n",
        "      <td> 6.998</td>\n",
        "      <td> 45.8</td>\n",
        "      <td> 6.0622</td>\n",
        "      <td> 3</td>\n",
        "      <td> 222</td>\n",
        "      <td> 18.7</td>\n",
        "      <td> 394.63</td>\n",
        "      <td> 2.94</td>\n",
        "    </tr>\n",
        "    <tr>\n",
        "      <th>4</th>\n",
        "      <td> 0.06905</td>\n",
        "      <td>  0</td>\n",
        "      <td> 2.18</td>\n",
        "      <td> 0</td>\n",
        "      <td> 0.458</td>\n",
        "      <td> 7.147</td>\n",
        "      <td> 54.2</td>\n",
        "      <td> 6.0622</td>\n",
        "      <td> 3</td>\n",
        "      <td> 222</td>\n",
        "      <td> 18.7</td>\n",
        "      <td> 396.90</td>\n",
        "      <td> 5.33</td>\n",
        "    </tr>\n",
        "  </tbody>\n",
        "</table>\n",
        "</div>"
       ],
       "metadata": {},
       "output_type": "pyout",
       "prompt_number": 13,
       "text": [
        "      CRIM  ZN  INDUS  CHAS    NOX     RM   AGE     DIS  RAD  TAX  PTRATIO  \\\n",
        "0  0.00632  18   2.31     0  0.538  6.575  65.2  4.0900    1  296     15.3   \n",
        "1  0.02731   0   7.07     0  0.469  6.421  78.9  4.9671    2  242     17.8   \n",
        "2  0.02729   0   7.07     0  0.469  7.185  61.1  4.9671    2  242     17.8   \n",
        "3  0.03237   0   2.18     0  0.458  6.998  45.8  6.0622    3  222     18.7   \n",
        "4  0.06905   0   2.18     0  0.458  7.147  54.2  6.0622    3  222     18.7   \n",
        "\n",
        "        B  LSTAT  \n",
        "0  396.90   4.98  \n",
        "1  396.90   9.14  \n",
        "2  392.83   4.03  \n",
        "3  394.63   2.94  \n",
        "4  396.90   5.33  "
       ]
      }
     ],
     "prompt_number": 13
    },
    {
     "cell_type": "code",
     "collapsed": false,
     "input": [
      "boston_df['Price'] = boston.target"
     ],
     "language": "python",
     "metadata": {},
     "outputs": [],
     "prompt_number": 15
    },
    {
     "cell_type": "code",
     "collapsed": false,
     "input": [
      "boston_df.head()"
     ],
     "language": "python",
     "metadata": {},
     "outputs": [
      {
       "html": [
        "<div style=\"max-height:1000px;max-width:1500px;overflow:auto;\">\n",
        "<table border=\"1\" class=\"dataframe\">\n",
        "  <thead>\n",
        "    <tr style=\"text-align: right;\">\n",
        "      <th></th>\n",
        "      <th>CRIM</th>\n",
        "      <th>ZN</th>\n",
        "      <th>INDUS</th>\n",
        "      <th>CHAS</th>\n",
        "      <th>NOX</th>\n",
        "      <th>RM</th>\n",
        "      <th>AGE</th>\n",
        "      <th>DIS</th>\n",
        "      <th>RAD</th>\n",
        "      <th>TAX</th>\n",
        "      <th>PTRATIO</th>\n",
        "      <th>B</th>\n",
        "      <th>LSTAT</th>\n",
        "      <th>Price</th>\n",
        "    </tr>\n",
        "  </thead>\n",
        "  <tbody>\n",
        "    <tr>\n",
        "      <th>0</th>\n",
        "      <td> 0.00632</td>\n",
        "      <td> 18</td>\n",
        "      <td> 2.31</td>\n",
        "      <td> 0</td>\n",
        "      <td> 0.538</td>\n",
        "      <td> 6.575</td>\n",
        "      <td> 65.2</td>\n",
        "      <td> 4.0900</td>\n",
        "      <td> 1</td>\n",
        "      <td> 296</td>\n",
        "      <td> 15.3</td>\n",
        "      <td> 396.90</td>\n",
        "      <td> 4.98</td>\n",
        "      <td> 24.0</td>\n",
        "    </tr>\n",
        "    <tr>\n",
        "      <th>1</th>\n",
        "      <td> 0.02731</td>\n",
        "      <td>  0</td>\n",
        "      <td> 7.07</td>\n",
        "      <td> 0</td>\n",
        "      <td> 0.469</td>\n",
        "      <td> 6.421</td>\n",
        "      <td> 78.9</td>\n",
        "      <td> 4.9671</td>\n",
        "      <td> 2</td>\n",
        "      <td> 242</td>\n",
        "      <td> 17.8</td>\n",
        "      <td> 396.90</td>\n",
        "      <td> 9.14</td>\n",
        "      <td> 21.6</td>\n",
        "    </tr>\n",
        "    <tr>\n",
        "      <th>2</th>\n",
        "      <td> 0.02729</td>\n",
        "      <td>  0</td>\n",
        "      <td> 7.07</td>\n",
        "      <td> 0</td>\n",
        "      <td> 0.469</td>\n",
        "      <td> 7.185</td>\n",
        "      <td> 61.1</td>\n",
        "      <td> 4.9671</td>\n",
        "      <td> 2</td>\n",
        "      <td> 242</td>\n",
        "      <td> 17.8</td>\n",
        "      <td> 392.83</td>\n",
        "      <td> 4.03</td>\n",
        "      <td> 34.7</td>\n",
        "    </tr>\n",
        "    <tr>\n",
        "      <th>3</th>\n",
        "      <td> 0.03237</td>\n",
        "      <td>  0</td>\n",
        "      <td> 2.18</td>\n",
        "      <td> 0</td>\n",
        "      <td> 0.458</td>\n",
        "      <td> 6.998</td>\n",
        "      <td> 45.8</td>\n",
        "      <td> 6.0622</td>\n",
        "      <td> 3</td>\n",
        "      <td> 222</td>\n",
        "      <td> 18.7</td>\n",
        "      <td> 394.63</td>\n",
        "      <td> 2.94</td>\n",
        "      <td> 33.4</td>\n",
        "    </tr>\n",
        "    <tr>\n",
        "      <th>4</th>\n",
        "      <td> 0.06905</td>\n",
        "      <td>  0</td>\n",
        "      <td> 2.18</td>\n",
        "      <td> 0</td>\n",
        "      <td> 0.458</td>\n",
        "      <td> 7.147</td>\n",
        "      <td> 54.2</td>\n",
        "      <td> 6.0622</td>\n",
        "      <td> 3</td>\n",
        "      <td> 222</td>\n",
        "      <td> 18.7</td>\n",
        "      <td> 396.90</td>\n",
        "      <td> 5.33</td>\n",
        "      <td> 36.2</td>\n",
        "    </tr>\n",
        "  </tbody>\n",
        "</table>\n",
        "</div>"
       ],
       "metadata": {},
       "output_type": "pyout",
       "prompt_number": 16,
       "text": [
        "      CRIM  ZN  INDUS  CHAS    NOX     RM   AGE     DIS  RAD  TAX  PTRATIO  \\\n",
        "0  0.00632  18   2.31     0  0.538  6.575  65.2  4.0900    1  296     15.3   \n",
        "1  0.02731   0   7.07     0  0.469  6.421  78.9  4.9671    2  242     17.8   \n",
        "2  0.02729   0   7.07     0  0.469  7.185  61.1  4.9671    2  242     17.8   \n",
        "3  0.03237   0   2.18     0  0.458  6.998  45.8  6.0622    3  222     18.7   \n",
        "4  0.06905   0   2.18     0  0.458  7.147  54.2  6.0622    3  222     18.7   \n",
        "\n",
        "        B  LSTAT  Price  \n",
        "0  396.90   4.98   24.0  \n",
        "1  396.90   9.14   21.6  \n",
        "2  392.83   4.03   34.7  \n",
        "3  394.63   2.94   33.4  \n",
        "4  396.90   5.33   36.2  "
       ]
      }
     ],
     "prompt_number": 16
    },
    {
     "cell_type": "code",
     "collapsed": false,
     "input": [
      "sns.lmplot('RM', 'Price', data = boston_df) # lmplot\u3067\u56de\u5e30\u76f4\u7dda\u63cf\u3044\u3066\u304f\u308c\u308b RM\u3092\u6a2a\u8ef8\u3001Price\u3092\u7e26\u8ef8\u306b"
     ],
     "language": "python",
     "metadata": {},
     "outputs": [
      {
       "metadata": {},
       "output_type": "pyout",
       "prompt_number": 17,
       "text": [
        "<seaborn.axisgrid.FacetGrid at 0x10ab1d1d0>"
       ]
      },
      {
       "metadata": {},
       "output_type": "display_data",
       "png": "[encoded data removed]",
       "text": [
        "<matplotlib.figure.Figure at 0x10ab1d7b8>"
       ]
      }
     ],
     "prompt_number": 17
    },
    {
     "cell_type": "code",
     "collapsed": false,
     "input": [
      "X = boston_df.RM # \u8aac\u660e\u5909\u6570"
     ],
     "language": "python",
     "metadata": {},
     "outputs": [],
     "prompt_number": 18
    },
    {
     "cell_type": "code",
     "collapsed": false,
     "input": [
      "X.shape"
     ],
     "language": "python",
     "metadata": {},
     "outputs": [
      {
       "metadata": {},
       "output_type": "pyout",
       "prompt_number": 19,
       "text": [
        "(506,)"
       ]
      }
     ],
     "prompt_number": 19
    },
    {
     "cell_type": "code",
     "collapsed": false,
     "input": [
      "X = np.vstack(boston_df.RM) # np.vstack: vartical[\u7e26]\u306b\u5024\u3092\u7a4d\u3080\u3002\u3000\u3053\u306e\u5834\u5408\u30011\u6b21\u5143\u306e\u30d9\u30af\u30c8\u30eb\u3092\u30012\u6b21\u5143\u914d\u5217\u5316\u3057\u3066\u3044\u308b\u3002"
     ],
     "language": "python",
     "metadata": {},
     "outputs": [],
     "prompt_number": 30
    },
    {
     "cell_type": "code",
     "collapsed": false,
     "input": [
      "X.shape    # X = boston_df.RM \u3067\u306eshape\u306e\u7d50\u679c\u306f1\u6b21\u5143\u306e\u30d9\u30af\u30c8\u30eb\u72b6\u614b\u3067\u3001\u4eca\u56de\u306f506\u884c\u30011\u5217\u306e2\u6b21\u5143\u914d\u5217\u306e\u6271\u3044\u306b\u306a\u3063\u3066\u3044\u308b\u3002"
     ],
     "language": "python",
     "metadata": {},
     "outputs": [
      {
       "metadata": {},
       "output_type": "pyout",
       "prompt_number": 28,
       "text": [
        "(506, 1)"
       ]
      }
     ],
     "prompt_number": 28
    },
    {
     "cell_type": "code",
     "collapsed": false,
     "input": [
      "X"
     ],
     "language": "python",
     "metadata": {},
     "outputs": [
      {
       "metadata": {},
       "output_type": "pyout",
       "prompt_number": 29,
       "text": [
        "array([[ 6.575],\n",
        "       [ 6.421],\n",
        "       [ 7.185],\n",
        "       [ 6.998],\n",
        "       [ 7.147],\n",
        "       [ 6.43 ],\n",
        "       [ 6.012],\n",
        "       [ 6.172],\n",
        "       [ 5.631],\n",
        "       [ 6.004],\n",
        "       [ 6.377],\n",
        "       [ 6.009],\n",
        "       [ 5.889],\n",
        "       [ 5.949],\n",
        "       [ 6.096],\n",
        "       [ 5.834],\n",
        "       [ 5.935],\n",
        "       [ 5.99 ],\n",
        "       [ 5.456],\n",
        "       [ 5.727],\n",
        "       [ 5.57 ],\n",
        "       [ 5.965],\n",
        "       [ 6.142],\n",
        "       [ 5.813],\n",
        "       [ 5.924],\n",
        "       [ 5.599],\n",
        "       [ 5.813],\n",
        "       [ 6.047],\n",
        "       [ 6.495],\n",
        "       [ 6.674],\n",
        "       [ 5.713],\n",
        "       [ 6.072],\n",
        "       [ 5.95 ],\n",
        "       [ 5.701],\n",
        "       [ 6.096],\n",
        "       [ 5.933],\n",
        "       [ 5.841],\n",
        "       [ 5.85 ],\n",
        "       [ 5.966],\n",
        "       [ 6.595],\n",
        "       [ 7.024],\n",
        "       [ 6.77 ],\n",
        "       [ 6.169],\n",
        "       [ 6.211],\n",
        "       [ 6.069],\n",
        "       [ 5.682],\n",
        "       [ 5.786],\n",
        "       [ 6.03 ],\n",
        "       [ 5.399],\n",
        "       [ 5.602],\n",
        "       [ 5.963],\n",
        "       [ 6.115],\n",
        "       [ 6.511],\n",
        "       [ 5.998],\n",
        "       [ 5.888],\n",
        "       [ 7.249],\n",
        "       [ 6.383],\n",
        "       [ 6.816],\n",
        "       [ 6.145],\n",
        "       [ 5.927],\n",
        "       [ 5.741],\n",
        "       [ 5.966],\n",
        "       [ 6.456],\n",
        "       [ 6.762],\n",
        "       [ 7.104],\n",
        "       [ 6.29 ],\n",
        "       [ 5.787],\n",
        "       [ 5.878],\n",
        "       [ 5.594],\n",
        "       [ 5.885],\n",
        "       [ 6.417],\n",
        "       [ 5.961],\n",
        "       [ 6.065],\n",
        "       [ 6.245],\n",
        "       [ 6.273],\n",
        "       [ 6.286],\n",
        "       [ 6.279],\n",
        "       [ 6.14 ],\n",
        "       [ 6.232],\n",
        "       [ 5.874],\n",
        "       [ 6.727],\n",
        "       [ 6.619],\n",
        "       [ 6.302],\n",
        "       [ 6.167],\n",
        "       [ 6.389],\n",
        "       [ 6.63 ],\n",
        "       [ 6.015],\n",
        "       [ 6.121],\n",
        "       [ 7.007],\n",
        "       [ 7.079],\n",
        "       [ 6.417],\n",
        "       [ 6.405],\n",
        "       [ 6.442],\n",
        "       [ 6.211],\n",
        "       [ 6.249],\n",
        "       [ 6.625],\n",
        "       [ 6.163],\n",
        "       [ 8.069],\n",
        "       [ 7.82 ],\n",
        "       [ 7.416],\n",
        "       [ 6.727],\n",
        "       [ 6.781],\n",
        "       [ 6.405],\n",
        "       [ 6.137],\n",
        "       [ 6.167],\n",
        "       [ 5.851],\n",
        "       [ 5.836],\n",
        "       [ 6.127],\n",
        "       [ 6.474],\n",
        "       [ 6.229],\n",
        "       [ 6.195],\n",
        "       [ 6.715],\n",
        "       [ 5.913],\n",
        "       [ 6.092],\n",
        "       [ 6.254],\n",
        "       [ 5.928],\n",
        "       [ 6.176],\n",
        "       [ 6.021],\n",
        "       [ 5.872],\n",
        "       [ 5.731],\n",
        "       [ 5.87 ],\n",
        "       [ 6.004],\n",
        "       [ 5.961],\n",
        "       [ 5.856],\n",
        "       [ 5.879],\n",
        "       [ 5.986],\n",
        "       [ 5.613],\n",
        "       [ 5.693],\n",
        "       [ 6.431],\n",
        "       [ 5.637],\n",
        "       [ 6.458],\n",
        "       [ 6.326],\n",
        "       [ 6.372],\n",
        "       [ 5.822],\n",
        "       [ 5.757],\n",
        "       [ 6.335],\n",
        "       [ 5.942],\n",
        "       [ 6.454],\n",
        "       [ 5.857],\n",
        "       [ 6.151],\n",
        "       [ 6.174],\n",
        "       [ 5.019],\n",
        "       [ 5.403],\n",
        "       [ 5.468],\n",
        "       [ 4.903],\n",
        "       [ 6.13 ],\n",
        "       [ 5.628],\n",
        "       [ 4.926],\n",
        "       [ 5.186],\n",
        "       [ 5.597],\n",
        "       [ 6.122],\n",
        "       [ 5.404],\n",
        "       [ 5.012],\n",
        "       [ 5.709],\n",
        "       [ 6.129],\n",
        "       [ 6.152],\n",
        "       [ 5.272],\n",
        "       [ 6.943],\n",
        "       [ 6.066],\n",
        "       [ 6.51 ],\n",
        "       [ 6.25 ],\n",
        "       [ 7.489],\n",
        "       [ 7.802],\n",
        "       [ 8.375],\n",
        "       [ 5.854],\n",
        "       [ 6.101],\n",
        "       [ 7.929],\n",
        "       [ 5.877],\n",
        "       [ 6.319],\n",
        "       [ 6.402],\n",
        "       [ 5.875],\n",
        "       [ 5.88 ],\n",
        "       [ 5.572],\n",
        "       [ 6.416],\n",
        "       [ 5.859],\n",
        "       [ 6.546],\n",
        "       [ 6.02 ],\n",
        "       [ 6.315],\n",
        "       [ 6.86 ],\n",
        "       [ 6.98 ],\n",
        "       [ 7.765],\n",
        "       [ 6.144],\n",
        "       [ 7.155],\n",
        "       [ 6.563],\n",
        "       [ 5.604],\n",
        "       [ 6.153],\n",
        "       [ 7.831],\n",
        "       [ 6.782],\n",
        "       [ 6.556],\n",
        "       [ 7.185],\n",
        "       [ 6.951],\n",
        "       [ 6.739],\n",
        "       [ 7.178],\n",
        "       [ 6.8  ],\n",
        "       [ 6.604],\n",
        "       [ 7.875],\n",
        "       [ 7.287],\n",
        "       [ 7.107],\n",
        "       [ 7.274],\n",
        "       [ 6.975],\n",
        "       [ 7.135],\n",
        "       [ 6.162],\n",
        "       [ 7.61 ],\n",
        "       [ 7.853],\n",
        "       [ 8.034],\n",
        "       [ 5.891],\n",
        "       [ 6.326],\n",
        "       [ 5.783],\n",
        "       [ 6.064],\n",
        "       [ 5.344],\n",
        "       [ 5.96 ],\n",
        "       [ 5.404],\n",
        "       [ 5.807],\n",
        "       [ 6.375],\n",
        "       [ 5.412],\n",
        "       [ 6.182],\n",
        "       [ 5.888],\n",
        "       [ 6.642],\n",
        "       [ 5.951],\n",
        "       [ 6.373],\n",
        "       [ 6.951],\n",
        "       [ 6.164],\n",
        "       [ 6.879],\n",
        "       [ 6.618],\n",
        "       [ 8.266],\n",
        "       [ 8.725],\n",
        "       [ 8.04 ],\n",
        "       [ 7.163],\n",
        "       [ 7.686],\n",
        "       [ 6.552],\n",
        "       [ 5.981],\n",
        "       [ 7.412],\n",
        "       [ 8.337],\n",
        "       [ 8.247],\n",
        "       [ 6.726],\n",
        "       [ 6.086],\n",
        "       [ 6.631],\n",
        "       [ 7.358],\n",
        "       [ 6.481],\n",
        "       [ 6.606],\n",
        "       [ 6.897],\n",
        "       [ 6.095],\n",
        "       [ 6.358],\n",
        "       [ 6.393],\n",
        "       [ 5.593],\n",
        "       [ 5.605],\n",
        "       [ 6.108],\n",
        "       [ 6.226],\n",
        "       [ 6.433],\n",
        "       [ 6.718],\n",
        "       [ 6.487],\n",
        "       [ 6.438],\n",
        "       [ 6.957],\n",
        "       [ 8.259],\n",
        "       [ 6.108],\n",
        "       [ 5.876],\n",
        "       [ 7.454],\n",
        "       [ 8.704],\n",
        "       [ 7.333],\n",
        "       [ 6.842],\n",
        "       [ 7.203],\n",
        "       [ 7.52 ],\n",
        "       [ 8.398],\n",
        "       [ 7.327],\n",
        "       [ 7.206],\n",
        "       [ 5.56 ],\n",
        "       [ 7.014],\n",
        "       [ 8.297],\n",
        "       [ 7.47 ],\n",
        "       [ 5.92 ],\n",
        "       [ 5.856],\n",
        "       [ 6.24 ],\n",
        "       [ 6.538],\n",
        "       [ 7.691],\n",
        "       [ 6.758],\n",
        "       [ 6.854],\n",
        "       [ 7.267],\n",
        "       [ 6.826],\n",
        "       [ 6.482],\n",
        "       [ 6.812],\n",
        "       [ 7.82 ],\n",
        "       [ 6.968],\n",
        "       [ 7.645],\n",
        "       [ 7.923],\n",
        "       [ 7.088],\n",
        "       [ 6.453],\n",
        "       [ 6.23 ],\n",
        "       [ 6.209],\n",
        "       [ 6.315],\n",
        "       [ 6.565],\n",
        "       [ 6.861],\n",
        "       [ 7.148],\n",
        "       [ 6.63 ],\n",
        "       [ 6.127],\n",
        "       [ 6.009],\n",
        "       [ 6.678],\n",
        "       [ 6.549],\n",
        "       [ 5.79 ],\n",
        "       [ 6.345],\n",
        "       [ 7.041],\n",
        "       [ 6.871],\n",
        "       [ 6.59 ],\n",
        "       [ 6.495],\n",
        "       [ 6.982],\n",
        "       [ 7.236],\n",
        "       [ 6.616],\n",
        "       [ 7.42 ],\n",
        "       [ 6.849],\n",
        "       [ 6.635],\n",
        "       [ 5.972],\n",
        "       [ 4.973],\n",
        "       [ 6.122],\n",
        "       [ 6.023],\n",
        "       [ 6.266],\n",
        "       [ 6.567],\n",
        "       [ 5.705],\n",
        "       [ 5.914],\n",
        "       [ 5.782],\n",
        "       [ 6.382],\n",
        "       [ 6.113],\n",
        "       [ 6.426],\n",
        "       [ 6.376],\n",
        "       [ 6.041],\n",
        "       [ 5.708],\n",
        "       [ 6.415],\n",
        "       [ 6.431],\n",
        "       [ 6.312],\n",
        "       [ 6.083],\n",
        "       [ 5.868],\n",
        "       [ 6.333],\n",
        "       [ 6.144],\n",
        "       [ 5.706],\n",
        "       [ 6.031],\n",
        "       [ 6.316],\n",
        "       [ 6.31 ],\n",
        "       [ 6.037],\n",
        "       [ 5.869],\n",
        "       [ 5.895],\n",
        "       [ 6.059],\n",
        "       [ 5.985],\n",
        "       [ 5.968],\n",
        "       [ 7.241],\n",
        "       [ 6.54 ],\n",
        "       [ 6.696],\n",
        "       [ 6.874],\n",
        "       [ 6.014],\n",
        "       [ 5.898],\n",
        "       [ 6.516],\n",
        "       [ 6.635],\n",
        "       [ 6.939],\n",
        "       [ 6.49 ],\n",
        "       [ 6.579],\n",
        "       [ 5.884],\n",
        "       [ 6.728],\n",
        "       [ 5.663],\n",
        "       [ 5.936],\n",
        "       [ 6.212],\n",
        "       [ 6.395],\n",
        "       [ 6.127],\n",
        "       [ 6.112],\n",
        "       [ 6.398],\n",
        "       [ 6.251],\n",
        "       [ 5.362],\n",
        "       [ 5.803],\n",
        "       [ 8.78 ],\n",
        "       [ 3.561],\n",
        "       [ 4.963],\n",
        "       [ 3.863],\n",
        "       [ 4.97 ],\n",
        "       [ 6.683],\n",
        "       [ 7.016],\n",
        "       [ 6.216],\n",
        "       [ 5.875],\n",
        "       [ 4.906],\n",
        "       [ 4.138],\n",
        "       [ 7.313],\n",
        "       [ 6.649],\n",
        "       [ 6.794],\n",
        "       [ 6.38 ],\n",
        "       [ 6.223],\n",
        "       [ 6.968],\n",
        "       [ 6.545],\n",
        "       [ 5.536],\n",
        "       [ 5.52 ],\n",
        "       [ 4.368],\n",
        "       [ 5.277],\n",
        "       [ 4.652],\n",
        "       [ 5.   ],\n",
        "       [ 4.88 ],\n",
        "       [ 5.39 ],\n",
        "       [ 5.713],\n",
        "       [ 6.051],\n",
        "       [ 5.036],\n",
        "       [ 6.193],\n",
        "       [ 5.887],\n",
        "       [ 6.471],\n",
        "       [ 6.405],\n",
        "       [ 5.747],\n",
        "       [ 5.453],\n",
        "       [ 5.852],\n",
        "       [ 5.987],\n",
        "       [ 6.343],\n",
        "       [ 6.404],\n",
        "       [ 5.349],\n",
        "       [ 5.531],\n",
        "       [ 5.683],\n",
        "       [ 4.138],\n",
        "       [ 5.608],\n",
        "       [ 5.617],\n",
        "       [ 6.852],\n",
        "       [ 5.757],\n",
        "       [ 6.657],\n",
        "       [ 4.628],\n",
        "       [ 5.155],\n",
        "       [ 4.519],\n",
        "       [ 6.434],\n",
        "       [ 6.782],\n",
        "       [ 5.304],\n",
        "       [ 5.957],\n",
        "       [ 6.824],\n",
        "       [ 6.411],\n",
        "       [ 6.006],\n",
        "       [ 5.648],\n",
        "       [ 6.103],\n",
        "       [ 5.565],\n",
        "       [ 5.896],\n",
        "       [ 5.837],\n",
        "       [ 6.202],\n",
        "       [ 6.193],\n",
        "       [ 6.38 ],\n",
        "       [ 6.348],\n",
        "       [ 6.833],\n",
        "       [ 6.425],\n",
        "       [ 6.436],\n",
        "       [ 6.208],\n",
        "       [ 6.629],\n",
        "       [ 6.461],\n",
        "       [ 6.152],\n",
        "       [ 5.935],\n",
        "       [ 5.627],\n",
        "       [ 5.818],\n",
        "       [ 6.406],\n",
        "       [ 6.219],\n",
        "       [ 6.485],\n",
        "       [ 5.854],\n",
        "       [ 6.459],\n",
        "       [ 6.341],\n",
        "       [ 6.251],\n",
        "       [ 6.185],\n",
        "       [ 6.417],\n",
        "       [ 6.749],\n",
        "       [ 6.655],\n",
        "       [ 6.297],\n",
        "       [ 7.393],\n",
        "       [ 6.728],\n",
        "       [ 6.525],\n",
        "       [ 5.976],\n",
        "       [ 5.936],\n",
        "       [ 6.301],\n",
        "       [ 6.081],\n",
        "       [ 6.701],\n",
        "       [ 6.376],\n",
        "       [ 6.317],\n",
        "       [ 6.513],\n",
        "       [ 6.209],\n",
        "       [ 5.759],\n",
        "       [ 5.952],\n",
        "       [ 6.003],\n",
        "       [ 5.926],\n",
        "       [ 5.713],\n",
        "       [ 6.167],\n",
        "       [ 6.229],\n",
        "       [ 6.437],\n",
        "       [ 6.98 ],\n",
        "       [ 5.427],\n",
        "       [ 6.162],\n",
        "       [ 6.484],\n",
        "       [ 5.304],\n",
        "       [ 6.185],\n",
        "       [ 6.229],\n",
        "       [ 6.242],\n",
        "       [ 6.75 ],\n",
        "       [ 7.061],\n",
        "       [ 5.762],\n",
        "       [ 5.871],\n",
        "       [ 6.312],\n",
        "       [ 6.114],\n",
        "       [ 5.905],\n",
        "       [ 5.454],\n",
        "       [ 5.414],\n",
        "       [ 5.093],\n",
        "       [ 5.983],\n",
        "       [ 5.983],\n",
        "       [ 5.707],\n",
        "       [ 5.926],\n",
        "       [ 5.67 ],\n",
        "       [ 5.39 ],\n",
        "       [ 5.794],\n",
        "       [ 6.019],\n",
        "       [ 5.569],\n",
        "       [ 6.027],\n",
        "       [ 6.593],\n",
        "       [ 6.12 ],\n",
        "       [ 6.976],\n",
        "       [ 6.794],\n",
        "       [ 6.03 ]])"
       ]
      }
     ],
     "prompt_number": 29
    },
    {
     "cell_type": "code",
     "collapsed": false,
     "input": [
      "Y = boston.target"
     ],
     "language": "python",
     "metadata": {},
     "outputs": [],
     "prompt_number": 31
    },
    {
     "cell_type": "code",
     "collapsed": false,
     "input": [
      "# numpy\u306b\u55b0\u308f\u305b\u308b\u305f\u3081\u306b\u30c7\u30fc\u30bf\u3092\u5909\u5f62\u3002\n",
      "X = np.array([[value, 1] for value in X])"
     ],
     "language": "python",
     "metadata": {},
     "outputs": [],
     "prompt_number": 33
    },
    {
     "cell_type": "code",
     "collapsed": false,
     "input": [
      "a, b = np.linalg.lstsq(X, Y)[0]    # lstsq:\u6700\u5c0f\u4e8c\u4e57\u6cd5 least square"
     ],
     "language": "python",
     "metadata": {},
     "outputs": [],
     "prompt_number": 35
    },
    {
     "cell_type": "code",
     "collapsed": false,
     "input": [
      "np.linalg.lstsq(X, Y)  # 0\u756a\u76ee\u306e\u8981\u7d20\uff1a\u914d\u5217\u306e\u6700\u521d\u304c\u50be\u304d\u3068\u5207\u7247\u3002\u30001\u756a\u76ee\u306e\u8981\u7d20\uff1a\u8aa4\u5dee\u306e\u5408\u8a08"
     ],
     "language": "python",
     "metadata": {},
     "outputs": [
      {
       "metadata": {},
       "output_type": "pyout",
       "prompt_number": 37,
       "text": [
        "(array([  9.10210898, -34.67062078]),\n",
        " array([ 22061.87919621]),\n",
        " 2,\n",
        " array([ 143.99484122,    2.46656609]))"
       ]
      }
     ],
     "prompt_number": 37
    },
    {
     "cell_type": "code",
     "collapsed": false,
     "input": [
      "plt.plot(boston_df.RM, boston_df.Price, 'o')\n",
      "\n",
      "x = boston_df.RM\n",
      "plt.plot(x, a * x + b, 'r')"
     ],
     "language": "python",
     "metadata": {},
     "outputs": [
      {
       "metadata": {},
       "output_type": "pyout",
       "prompt_number": 39,
       "text": [
        "[<matplotlib.lines.Line2D at 0x10ae9edd8>]"
       ]
      },
      {
       "metadata": {},
       "output_type": "display_data",
       "png": "[encoded data removed]",
       "text": [
        "<matplotlib.figure.Figure at 0x10af081d0>"
       ]
      }
     ],
     "prompt_number": 39
    },
    {
     "cell_type": "code",
     "collapsed": false,
     "input": [
      "error_total = np.linalg.lstsq(X, Y)[1]\n",
      "rmse = np.sqrt(error_total / len(X))  # root mean square error(\u5e73\u5747\u4e8c\u4e57\u8aa4\u5dee)"
     ],
     "language": "python",
     "metadata": {},
     "outputs": [],
     "prompt_number": 40
    },
    {
     "cell_type": "code",
     "collapsed": false,
     "input": [
      "print('\u5e73\u5747\u4e8c\u4e57\u8aa4\u5dee\u306e\u5e73\u65b9\u6839={:0.2f}'.format(rmse[0]))"
     ],
     "language": "python",
     "metadata": {},
     "outputs": [
      {
       "output_type": "stream",
       "stream": "stdout",
       "text": [
        "\u5e73\u5747\u4e8c\u4e57\u8aa4\u5dee\u306e\u5e73\u65b9\u6839=6.60\n"
       ]
      }
     ],
     "prompt_number": 41
    },
    {
     "cell_type": "code",
     "collapsed": false,
     "input": [
      "import sklearn\n",
      "from sklearn.linear_model import LinearRegression"
     ],
     "language": "python",
     "metadata": {},
     "outputs": [],
     "prompt_number": 42
    },
    {
     "cell_type": "code",
     "collapsed": false,
     "input": [
      "lreg = LinearRegression()  # \u30a4\u30f3\u30b9\u30bf\u30f3\u30b9\u751f\u6210"
     ],
     "language": "python",
     "metadata": {},
     "outputs": [],
     "prompt_number": 43
    },
    {
     "cell_type": "code",
     "collapsed": false,
     "input": [
      "# \u91cd\u56de\u5e30\n",
      "X_multi = boston_df.drop('Price', 1) # Price\u4ee5\u5916\u3092\u8aac\u660e\u5909\u6570\u3068\u3059\u308b"
     ],
     "language": "python",
     "metadata": {},
     "outputs": [],
     "prompt_number": 46
    },
    {
     "cell_type": "code",
     "collapsed": false,
     "input": [
      "X_multi.shape"
     ],
     "language": "python",
     "metadata": {},
     "outputs": [
      {
       "metadata": {},
       "output_type": "pyout",
       "prompt_number": 47,
       "text": [
        "(506, 13)"
       ]
      }
     ],
     "prompt_number": 47
    },
    {
     "cell_type": "code",
     "collapsed": false,
     "input": [
      "Y_target = boston_df.Price"
     ],
     "language": "python",
     "metadata": {},
     "outputs": [],
     "prompt_number": 48
    },
    {
     "cell_type": "code",
     "collapsed": false,
     "input": [
      "Y_target.shape"
     ],
     "language": "python",
     "metadata": {},
     "outputs": [
      {
       "metadata": {},
       "output_type": "pyout",
       "prompt_number": 49,
       "text": [
        "(506,)"
       ]
      }
     ],
     "prompt_number": 49
    },
    {
     "cell_type": "code",
     "collapsed": false,
     "input": [
      "lreg.fit(X_multi, Y_target)  # Train\u5b9f\u884c\u3057\u3066\u3001\u30e2\u30c7\u30eb\u4f5c\u6210 lreg\u306e\u30a4\u30f3\u30b9\u30bf\u30f3\u30b9\u306b\u7d50\u679c\u3092\u683c\u7d0d\u3059\u308b\u52d5\u4f5c"
     ],
     "language": "python",
     "metadata": {},
     "outputs": [
      {
       "metadata": {},
       "output_type": "pyout",
       "prompt_number": 50,
       "text": [
        "LinearRegression(copy_X=True, fit_intercept=True, normalize=False)"
       ]
      }
     ],
     "prompt_number": 50
    },
    {
     "cell_type": "code",
     "collapsed": false,
     "input": [
      "# \u7d50\u679c\u3092\u78ba\u8a8d\n",
      "# \u5207\u7247\u78ba\u8a8d\n",
      "lreg.intercept_"
     ],
     "language": "python",
     "metadata": {},
     "outputs": [
      {
       "metadata": {},
       "output_type": "pyout",
       "prompt_number": 51,
       "text": [
        "36.49110328036187"
       ]
      }
     ],
     "prompt_number": 51
    },
    {
     "cell_type": "code",
     "collapsed": false,
     "input": [
      "# \u4fc2\u6570\u306e\u6570\u306e\u8868\u793a\n",
      "len(lreg.coef_)    # coef_:\u4fc2\u6570(cofficent\u306e\u7565)"
     ],
     "language": "python",
     "metadata": {},
     "outputs": [
      {
       "metadata": {},
       "output_type": "pyout",
       "prompt_number": 52,
       "text": [
        "13"
       ]
      }
     ],
     "prompt_number": 52
    },
    {
     "cell_type": "code",
     "collapsed": false,
     "input": [
      "coeff_df = DataFrame(boston_df.columns)"
     ],
     "language": "python",
     "metadata": {},
     "outputs": [],
     "prompt_number": 61
    },
    {
     "cell_type": "code",
     "collapsed": false,
     "input": [
      "coeff_df"
     ],
     "language": "python",
     "metadata": {},
     "outputs": [
      {
       "html": [
        "<div style=\"max-height:1000px;max-width:1500px;overflow:auto;\">\n",
        "<table border=\"1\" class=\"dataframe\">\n",
        "  <thead>\n",
        "    <tr style=\"text-align: right;\">\n",
        "      <th></th>\n",
        "      <th>0</th>\n",
        "    </tr>\n",
        "  </thead>\n",
        "  <tbody>\n",
        "    <tr>\n",
        "      <th>0 </th>\n",
        "      <td>    CRIM</td>\n",
        "    </tr>\n",
        "    <tr>\n",
        "      <th>1 </th>\n",
        "      <td>      ZN</td>\n",
        "    </tr>\n",
        "    <tr>\n",
        "      <th>2 </th>\n",
        "      <td>   INDUS</td>\n",
        "    </tr>\n",
        "    <tr>\n",
        "      <th>3 </th>\n",
        "      <td>    CHAS</td>\n",
        "    </tr>\n",
        "    <tr>\n",
        "      <th>4 </th>\n",
        "      <td>     NOX</td>\n",
        "    </tr>\n",
        "    <tr>\n",
        "      <th>5 </th>\n",
        "      <td>      RM</td>\n",
        "    </tr>\n",
        "    <tr>\n",
        "      <th>6 </th>\n",
        "      <td>     AGE</td>\n",
        "    </tr>\n",
        "    <tr>\n",
        "      <th>7 </th>\n",
        "      <td>     DIS</td>\n",
        "    </tr>\n",
        "    <tr>\n",
        "      <th>8 </th>\n",
        "      <td>     RAD</td>\n",
        "    </tr>\n",
        "    <tr>\n",
        "      <th>9 </th>\n",
        "      <td>     TAX</td>\n",
        "    </tr>\n",
        "    <tr>\n",
        "      <th>10</th>\n",
        "      <td> PTRATIO</td>\n",
        "    </tr>\n",
        "    <tr>\n",
        "      <th>11</th>\n",
        "      <td>       B</td>\n",
        "    </tr>\n",
        "    <tr>\n",
        "      <th>12</th>\n",
        "      <td>   LSTAT</td>\n",
        "    </tr>\n",
        "    <tr>\n",
        "      <th>13</th>\n",
        "      <td>   Price</td>\n",
        "    </tr>\n",
        "  </tbody>\n",
        "</table>\n",
        "</div>"
       ],
       "metadata": {},
       "output_type": "pyout",
       "prompt_number": 62,
       "text": [
        "          0\n",
        "0      CRIM\n",
        "1        ZN\n",
        "2     INDUS\n",
        "3      CHAS\n",
        "4       NOX\n",
        "5        RM\n",
        "6       AGE\n",
        "7       DIS\n",
        "8       RAD\n",
        "9       TAX\n",
        "10  PTRATIO\n",
        "11        B\n",
        "12    LSTAT\n",
        "13    Price"
       ]
      }
     ],
     "prompt_number": 62
    },
    {
     "cell_type": "code",
     "collapsed": false,
     "input": [
      "coeff_df.columns = ['Features']"
     ],
     "language": "python",
     "metadata": {},
     "outputs": [],
     "prompt_number": 63
    },
    {
     "cell_type": "code",
     "collapsed": false,
     "input": [
      "coeff_df['Coefficient Estimate'] = pd.Series(lreg.coef_)"
     ],
     "language": "python",
     "metadata": {},
     "outputs": [],
     "prompt_number": 64
    },
    {
     "cell_type": "code",
     "collapsed": false,
     "input": [
      "coeff_df\n",
      "# \u5404\u8aac\u660e\u5909\u6570\u306e\u4fc2\u6570\u304c\u683c\u7d0d\u3055\u308c\u3066\u308b\u3002"
     ],
     "language": "python",
     "metadata": {},
     "outputs": [
      {
       "html": [
        "<div style=\"max-height:1000px;max-width:1500px;overflow:auto;\">\n",
        "<table border=\"1\" class=\"dataframe\">\n",
        "  <thead>\n",
        "    <tr style=\"text-align: right;\">\n",
        "      <th></th>\n",
        "      <th>Features</th>\n",
        "      <th>Coefficient Estimate</th>\n",
        "    </tr>\n",
        "  </thead>\n",
        "  <tbody>\n",
        "    <tr>\n",
        "      <th>0 </th>\n",
        "      <td>    CRIM</td>\n",
        "      <td> -0.107171</td>\n",
        "    </tr>\n",
        "    <tr>\n",
        "      <th>1 </th>\n",
        "      <td>      ZN</td>\n",
        "      <td>  0.046395</td>\n",
        "    </tr>\n",
        "    <tr>\n",
        "      <th>2 </th>\n",
        "      <td>   INDUS</td>\n",
        "      <td>  0.020860</td>\n",
        "    </tr>\n",
        "    <tr>\n",
        "      <th>3 </th>\n",
        "      <td>    CHAS</td>\n",
        "      <td>  2.688561</td>\n",
        "    </tr>\n",
        "    <tr>\n",
        "      <th>4 </th>\n",
        "      <td>     NOX</td>\n",
        "      <td>-17.795759</td>\n",
        "    </tr>\n",
        "    <tr>\n",
        "      <th>5 </th>\n",
        "      <td>      RM</td>\n",
        "      <td>  3.804752</td>\n",
        "    </tr>\n",
        "    <tr>\n",
        "      <th>6 </th>\n",
        "      <td>     AGE</td>\n",
        "      <td>  0.000751</td>\n",
        "    </tr>\n",
        "    <tr>\n",
        "      <th>7 </th>\n",
        "      <td>     DIS</td>\n",
        "      <td> -1.475759</td>\n",
        "    </tr>\n",
        "    <tr>\n",
        "      <th>8 </th>\n",
        "      <td>     RAD</td>\n",
        "      <td>  0.305655</td>\n",
        "    </tr>\n",
        "    <tr>\n",
        "      <th>9 </th>\n",
        "      <td>     TAX</td>\n",
        "      <td> -0.012329</td>\n",
        "    </tr>\n",
        "    <tr>\n",
        "      <th>10</th>\n",
        "      <td> PTRATIO</td>\n",
        "      <td> -0.953464</td>\n",
        "    </tr>\n",
        "    <tr>\n",
        "      <th>11</th>\n",
        "      <td>       B</td>\n",
        "      <td>  0.009393</td>\n",
        "    </tr>\n",
        "    <tr>\n",
        "      <th>12</th>\n",
        "      <td>   LSTAT</td>\n",
        "      <td> -0.525467</td>\n",
        "    </tr>\n",
        "    <tr>\n",
        "      <th>13</th>\n",
        "      <td>   Price</td>\n",
        "      <td>       NaN</td>\n",
        "    </tr>\n",
        "  </tbody>\n",
        "</table>\n",
        "</div>"
       ],
       "metadata": {},
       "output_type": "pyout",
       "prompt_number": 65,
       "text": [
        "   Features  Coefficient Estimate\n",
        "0      CRIM             -0.107171\n",
        "1        ZN              0.046395\n",
        "2     INDUS              0.020860\n",
        "3      CHAS              2.688561\n",
        "4       NOX            -17.795759\n",
        "5        RM              3.804752\n",
        "6       AGE              0.000751\n",
        "7       DIS             -1.475759\n",
        "8       RAD              0.305655\n",
        "9       TAX             -0.012329\n",
        "10  PTRATIO             -0.953464\n",
        "11        B              0.009393\n",
        "12    LSTAT             -0.525467\n",
        "13    Price                   NaN"
       ]
      }
     ],
     "prompt_number": 65
    },
    {
     "cell_type": "code",
     "collapsed": false,
     "input": [
      "# \u30c7\u30fc\u30bf\u3092train\u7528\u3068test\u7528\u306b\u5206\u3051\u3066\u5b9f\u884c\u3002\n",
      "# sklearn.cross_validation.train_test_split(X, Y) \u3067X\u3092\u8aac\u660e\u5909\u6570\u3001Y\u3092\u76ee\u7684\u5909\u6570\u3067\u4f7f\u7528\n",
      "X_train, X_test, Y_train, Y_test = sklearn.cross_validation.train_test_split(X_multi, boston_df.Price) "
     ],
     "language": "python",
     "metadata": {},
     "outputs": [],
     "prompt_number": 85
    },
    {
     "cell_type": "code",
     "collapsed": false,
     "input": [
      "print(X_train.shape, X_test.shape, Y_train.shape, Y_test.shape)\n",
      "# train\u7528\u306b379\u500b\u3001test\u7528\u306b127\u500b\u306b\u5206\u5272\u3057\u305f\u3053\u3068\u304c\u308f\u304b\u308b"
     ],
     "language": "python",
     "metadata": {},
     "outputs": [
      {
       "output_type": "stream",
       "stream": "stdout",
       "text": [
        "(379, 13) (127, 13) (379,) (127,)\n"
       ]
      }
     ],
     "prompt_number": 86
    },
    {
     "cell_type": "code",
     "collapsed": false,
     "input": [
      "lreg = LinearRegression() # \u30a4\u30f3\u30b9\u30bf\u30f3\u30b9\u751f\u6210"
     ],
     "language": "python",
     "metadata": {},
     "outputs": [],
     "prompt_number": 87
    },
    {
     "cell_type": "code",
     "collapsed": false,
     "input": [
      "lreg.fit(X_train, Y_train)"
     ],
     "language": "python",
     "metadata": {},
     "outputs": [
      {
       "metadata": {},
       "output_type": "pyout",
       "prompt_number": 88,
       "text": [
        "LinearRegression(copy_X=True, fit_intercept=True, normalize=False)"
       ]
      }
     ],
     "prompt_number": 88
    },
    {
     "cell_type": "code",
     "collapsed": false,
     "input": [
      "pred_train = lreg.predict(X_train) # X_train\u3092\u4f7f\u3063\u3066\u3001\u4e88\u6e2c\u5b9f\u884c\u3002\u5b66\u7fd2\u30c7\u30fc\u30bf\u3067\u306e\u4e88\u6e2c\u306a\u306e\u3067\u7cbe\u5ea6\u9ad8\u3081"
     ],
     "language": "python",
     "metadata": {},
     "outputs": [],
     "prompt_number": 89
    },
    {
     "cell_type": "code",
     "collapsed": false,
     "input": [
      "pred_test = lreg.predict(X_test) # X_test\u3092\u4f7f\u3063\u3066\u3001\u4e88\u6e2c\u5b9f\u884c\u3002test\u30c7\u30fc\u30bf\u3067\u306e\u4e88\u6e2c\u306a\u306e\u3067\u7cbe\u5ea6\u4f4e\u3081"
     ],
     "language": "python",
     "metadata": {},
     "outputs": [],
     "prompt_number": 90
    },
    {
     "cell_type": "code",
     "collapsed": false,
     "input": [
      "np.mean((Y_train - pred_train) ** 2)  # \u4e88\u6e2c\u3068\u6b63\u89e3\u3068\u306e\u5e73\u5747\u4e8c\u4e57\u8aa4\u5dee(\u5b66\u7fd2\u7528)"
     ],
     "language": "python",
     "metadata": {},
     "outputs": [
      {
       "metadata": {},
       "output_type": "pyout",
       "prompt_number": 91,
       "text": [
        "22.241692382312593"
       ]
      }
     ],
     "prompt_number": 91
    },
    {
     "cell_type": "code",
     "collapsed": false,
     "input": [
      "np.mean((Y_test - pred_test) ** 2)  # \u4e88\u6e2c\u3068\u6b63\u89e3\u3068\u306e\u5e73\u5747\u4e8c\u4e57\u8aa4\u5dee(\u30c6\u30b9\u30c8\u7528)"
     ],
     "language": "python",
     "metadata": {},
     "outputs": [
      {
       "metadata": {},
       "output_type": "pyout",
       "prompt_number": 92,
       "text": [
        "22.350272815778929"
       ]
      }
     ],
     "prompt_number": 92
    },
    {
     "cell_type": "code",
     "collapsed": false,
     "input": [
      "# \u6b8b\u5dee\u30d7\u30ed\u30c3\u30c8\n",
      "train = plt.scatter(pred_train, (pred_train - Y_train), c= 'b', alpha=0.5)  # \u6a2a\u8ef8\u306btrain\u306e\u7d50\u679c\u3001\u7e26\u8ef8\u306b\u8aa4\u5dee\n",
      "test = plt.scatter(pred_test, (pred_test - Y_test), c ='r', alpha=0.5)\n",
      "plt.hlines(y = 0, xmin = -1.0, xmax = 50)\n",
      "plt.legend((train, test), ('Training', 'Test'), loc = 'lower left') # \u51e1\u4f8b\n",
      "plt.title('Residual Plots')"
     ],
     "language": "python",
     "metadata": {},
     "outputs": [
      {
       "metadata": {},
       "output_type": "pyout",
       "prompt_number": 94,
       "text": [
        "<matplotlib.text.Text at 0x10bc32d30>"
       ]
      },
      {
       "metadata": {},
       "output_type": "display_data",
       "png": "[encoded data removed]",
       "text": [
        "<matplotlib.figure.Figure at 0x10bb4b438>"
       ]
      }
     ],
     "prompt_number": 94
    },
    {
     "cell_type": "markdown",
     "metadata": {},
     "source": [
      "\u9ed2\u7dda\u3088\u308a\u4e0a\u304c\u6b8b\u5dee\u304c\u30d7\u30e9\u30b9\u306b\u306a\u3063\u305f\u3082\u306e\u3002\u3000\u9ed2\u7dda\u3088\u308a\u4e0b\u304c\u6b8b\u5dee\u304c\u30de\u30a4\u30ca\u30b9\u306b\u306a\u3063\u305f\u3082\u306e\u3002\u3000\u9ed2\u7dda\u4e0a\u304c\u5dee\u304c\u306a\u3057\u3002\n",
      "\u306a\u306e\u3067\u9ed2\u7dda\u306b\u4e57\u308b\u306e\u304c\u4e00\u756a\u826f\u3044\u3002\n",
      "\u9ed2\u7dda\u306b\u4e57\u3089\u306a\u3044\u30c7\u30fc\u30bf\u304c\u4e0a\u4e0b\u306b\u5747\u4e00\u306b\u5206\u5e03\u3057\u3066\u3044\u308c\u3070\u3001\u7dda\u5f62\u56de\u5e30\u3092\u5f53\u3066\u306f\u3081\u3066\u3046\u307e\u304f\u3044\u304f\u30d1\u30bf\u30fc\u30f3\u3002\n",
      "\u3057\u304b\u3057\u3001\u305d\u3046\u3067\u306a\u3044\u5834\u5408\u306f\u3001\u300c\u7dda\u5f62\u56de\u5e30\u3060\u3051\u3067\u306f\u96e3\u3057\u3044\u304b\u3082\uff1f\u300d\u3068\u7591\u3048\u308b\u3002"
     ]
    }
   ],
   "metadata": {}
  }
 ]
}